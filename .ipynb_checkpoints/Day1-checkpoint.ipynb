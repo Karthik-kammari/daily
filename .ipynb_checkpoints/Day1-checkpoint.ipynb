{
 "cells": [
  {
   "cell_type": "code",
   "execution_count": 1,
   "id": "20c9d1de-2574-4a67-bd40-1e2d06660fba",
   "metadata": {},
   "outputs": [
    {
     "name": "stdout",
     "output_type": "stream",
     "text": [
      "hello karthik. let's get started\n"
     ]
    }
   ],
   "source": [
    "print(\"hello karthik. let's get started\")"
   ]
  },
  {
   "cell_type": "code",
   "execution_count": 3,
   "id": "4e7e821c-eae7-424e-96c3-82f5952c364e",
   "metadata": {},
   "outputs": [],
   "source": [
    "list1=[1,2,3.3,4,'karthik',27.5]\n",
    "\n"
   ]
  },
  {
   "cell_type": "code",
   "execution_count": 7,
   "id": "08d0a1f5-622b-49ec-aa64-b32754797273",
   "metadata": {},
   "outputs": [
    {
     "name": "stdout",
     "output_type": "stream",
     "text": [
      "[1, 2, 3.3, 4, 'karthik', 27.5]\n"
     ]
    }
   ],
   "source": [
    "print(list1)"
   ]
  },
  {
   "cell_type": "code",
   "execution_count": 9,
   "id": "ebf8d436-832f-4c7b-8541-7fd4c224273e",
   "metadata": {},
   "outputs": [],
   "source": [
    "list1.append(55.5)"
   ]
  },
  {
   "cell_type": "code",
   "execution_count": 31,
   "id": "d8b04243-cf67-48cd-a7b6-173bf73fb53a",
   "metadata": {},
   "outputs": [
    {
     "data": {
      "text/plain": [
       "['chary', 1, 2, 3.3, 4, 'karthik', 27.5, 55.5, 100, 1, 2, 3]"
      ]
     },
     "execution_count": 31,
     "metadata": {},
     "output_type": "execute_result"
    }
   ],
   "source": [
    "list1"
   ]
  },
  {
   "cell_type": "code",
   "execution_count": 13,
   "id": "f2d5e407-762f-43f5-a56d-2dd1ceaa71b6",
   "metadata": {},
   "outputs": [],
   "source": [
    "list1.append(100)  "
   ]
  },
  {
   "cell_type": "code",
   "execution_count": 411,
   "id": "d0100a4e-ed4d-4b7f-84f8-1b5fd44ead3a",
   "metadata": {},
   "outputs": [],
   "source": [
    "list1.append([1,2,3])"
   ]
  },
  {
   "cell_type": "code",
   "execution_count": 431,
   "id": "a9fe0af5-e034-439d-9b4b-ebdab315fd69",
   "metadata": {},
   "outputs": [
    {
     "data": {
      "text/plain": [
       "1"
      ]
     },
     "execution_count": 431,
     "metadata": {},
     "output_type": "execute_result"
    }
   ],
   "source": [
    "list1[6][0\n",
    "]\n"
   ]
  },
  {
   "cell_type": "code",
   "execution_count": 17,
   "id": "b9890552-25fa-400b-9490-1cac38f1a51b",
   "metadata": {},
   "outputs": [],
   "source": [
    "list1.insert(0,'chary')"
   ]
  },
  {
   "cell_type": "markdown",
   "id": "0d7f8576-002b-4652-aa66-467df4da6a79",
   "metadata": {},
   "source": []
  },
  {
   "cell_type": "code",
   "execution_count": 41,
   "id": "52669ebb-fe0e-4c4f-955b-c8d43b78bb85",
   "metadata": {},
   "outputs": [
    {
     "data": {
      "text/plain": [
       "6"
      ]
     },
     "execution_count": 41,
     "metadata": {},
     "output_type": "execute_result"
    }
   ],
   "source": [
    "list1[11]*2"
   ]
  },
  {
   "cell_type": "code",
   "execution_count": 47,
   "id": "2a85fd5d-79a2-47f3-9982-a1d13fcf6fcb",
   "metadata": {},
   "outputs": [
    {
     "data": {
      "text/plain": [
       "['chary', 1, 2, 3.3, 4, 'karthik', 27.5, 55.5, 100, 1, 2, 3]"
      ]
     },
     "execution_count": 47,
     "metadata": {},
     "output_type": "execute_result"
    }
   ],
   "source": [
    "list1"
   ]
  },
  {
   "cell_type": "code",
   "execution_count": 49,
   "id": "3211ab57-1b11-4bca-9f28-93e6a4142895",
   "metadata": {},
   "outputs": [
    {
     "data": {
      "text/plain": [
       "5"
      ]
     },
     "execution_count": 49,
     "metadata": {},
     "output_type": "execute_result"
    }
   ],
   "source": [
    "list1.index('karthik')"
   ]
  },
  {
   "cell_type": "code",
   "execution_count": 55,
   "id": "a001abac-e9f1-4bc4-a1f8-d608c3259974",
   "metadata": {},
   "outputs": [
    {
     "data": {
      "text/plain": [
       "211"
      ]
     },
     "execution_count": 55,
     "metadata": {},
     "output_type": "execute_result"
    }
   ],
   "source": [
    " list1.index(3,2)+200"
   ]
  },
  {
   "cell_type": "code",
   "execution_count": 57,
   "id": "047e4209-55f4-49e9-baa1-a47e11d2b1ec",
   "metadata": {},
   "outputs": [
    {
     "data": {
      "text/plain": [
       "'karthik'"
      ]
     },
     "execution_count": 57,
     "metadata": {},
     "output_type": "execute_result"
    }
   ],
   "source": [
    "list1[5]"
   ]
  },
  {
   "cell_type": "code",
   "execution_count": 69,
   "id": "fdce33eb-2c3a-418c-a3ee-1f47296b3c4c",
   "metadata": {},
   "outputs": [
    {
     "data": {
      "text/plain": [
       "'chary'"
      ]
     },
     "execution_count": 69,
     "metadata": {},
     "output_type": "execute_result"
    }
   ],
   "source": [
    " list1.pop(0)"
   ]
  },
  {
   "cell_type": "code",
   "execution_count": 71,
   "id": "0973eeaf-5afa-4746-811c-66ed3ed5f6da",
   "metadata": {},
   "outputs": [
    {
     "data": {
      "text/plain": [
       "[1, 2, 3.3, 4, 'karthik', 27.5, 55.5, 1, 2, 3]"
      ]
     },
     "execution_count": 71,
     "metadata": {},
     "output_type": "execute_result"
    }
   ],
   "source": [
    "list1"
   ]
  },
  {
   "cell_type": "code",
   "execution_count": 75,
   "id": "93f011e4-7653-4c50-b0a6-ce3721d93486",
   "metadata": {},
   "outputs": [],
   "source": [
    "list1.remove(\"karthik\")"
   ]
  },
  {
   "cell_type": "code",
   "execution_count": 77,
   "id": "27314fb9-08bd-4001-bc66-93abfe26511a",
   "metadata": {},
   "outputs": [
    {
     "data": {
      "text/plain": [
       "[1, 2, 3.3, 4, 27.5, 55.5, 1, 2, 3]"
      ]
     },
     "execution_count": 77,
     "metadata": {},
     "output_type": "execute_result"
    }
   ],
   "source": [
    "list1"
   ]
  },
  {
   "cell_type": "code",
   "execution_count": 79,
   "id": "bf44f2f2-f3f7-4a45-8b1f-294cb3dda63d",
   "metadata": {},
   "outputs": [],
   "source": [
    "list1.remove(27.5)"
   ]
  },
  {
   "cell_type": "code",
   "execution_count": 81,
   "id": "4fd55910-4aa1-4d59-bc0c-233593760e30",
   "metadata": {},
   "outputs": [
    {
     "data": {
      "text/plain": [
       "[1, 2, 3.3, 4, 55.5, 1, 2, 3]"
      ]
     },
     "execution_count": 81,
     "metadata": {},
     "output_type": "execute_result"
    }
   ],
   "source": [
    "list1"
   ]
  },
  {
   "cell_type": "markdown",
   "id": "06bfdb8f-1888-47e9-8e2c-be0880e30709",
   "metadata": {},
   "source": [
    "tuples"
   ]
  },
  {
   "cell_type": "code",
   "execution_count": 89,
   "id": "bba180b5-8aca-4103-89dd-06c5e9a919ea",
   "metadata": {},
   "outputs": [],
   "source": [
    "tup1=(1, 2, 3.3, 4, 'karthik', 27.5, 55.5, 1, 2, 3,[456,500])"
   ]
  },
  {
   "cell_type": "code",
   "execution_count": 119,
   "id": "44a11f5a-d07d-466e-a7f6-7cfa238ebb57",
   "metadata": {},
   "outputs": [
    {
     "ename": "AttributeError",
     "evalue": "'tuple' object has no attribute 'extend'",
     "output_type": "error",
     "traceback": [
      "\u001b[1;31m---------------------------------------------------------------------------\u001b[0m",
      "\u001b[1;31mAttributeError\u001b[0m                            Traceback (most recent call last)",
      "Cell \u001b[1;32mIn[119], line 1\u001b[0m\n\u001b[1;32m----> 1\u001b[0m tup1\u001b[38;5;241m.\u001b[39mextend([\u001b[38;5;241m456\u001b[39m,\u001b[38;5;241m500\u001b[39m])\n",
      "\u001b[1;31mAttributeError\u001b[0m: 'tuple' object has no attribute 'extend'"
     ]
    }
   ],
   "source": [
    "tup1.extend([456,500])\n"
   ]
  },
  {
   "cell_type": "code",
   "execution_count": 93,
   "id": "a198d0b0-4da1-4620-b23d-5f4c1b2277ac",
   "metadata": {},
   "outputs": [
    {
     "data": {
      "text/plain": [
       "27.5"
      ]
     },
     "execution_count": 93,
     "metadata": {},
     "output_type": "execute_result"
    }
   ],
   "source": [
    "tup1[5]"
   ]
  },
  {
   "cell_type": "code",
   "execution_count": 95,
   "id": "ff781043-6bab-4553-ada7-d3d12ce7f6b3",
   "metadata": {},
   "outputs": [],
   "source": [
    "list1[3]=4.4"
   ]
  },
  {
   "cell_type": "code",
   "execution_count": 97,
   "id": "696ae7ba-03c9-4481-ac12-dab4ca8bd3cb",
   "metadata": {},
   "outputs": [
    {
     "data": {
      "text/plain": [
       "[1, 2, 3.3, 4.4, 55.5, 1, 2, 3]"
      ]
     },
     "execution_count": 97,
     "metadata": {},
     "output_type": "execute_result"
    }
   ],
   "source": [
    "list1"
   ]
  },
  {
   "cell_type": "code",
   "execution_count": 99,
   "id": "4d72fcc9-0817-4b53-8020-2a7f0fa2d48c",
   "metadata": {},
   "outputs": [
    {
     "data": {
      "text/plain": [
       "'karthik'"
      ]
     },
     "execution_count": 99,
     "metadata": {},
     "output_type": "execute_result"
    }
   ],
   "source": [
    "tup1[4]"
   ]
  },
  {
   "cell_type": "code",
   "execution_count": 101,
   "id": "5fa1eaec-c134-4cae-bb6c-7cf4200041be",
   "metadata": {},
   "outputs": [
    {
     "data": {
      "text/plain": [
       "4"
      ]
     },
     "execution_count": 101,
     "metadata": {},
     "output_type": "execute_result"
    }
   ],
   "source": [
    " tup1.index('karthik')"
   ]
  },
  {
   "cell_type": "code",
   "execution_count": 113,
   "id": "99c9682c-866a-41dd-9acd-15ebe1dc40ad",
   "metadata": {},
   "outputs": [
    {
     "data": {
      "text/plain": [
       "[2, 3.3, 4.4, 55.5, 1]"
      ]
     },
     "execution_count": 113,
     "metadata": {},
     "output_type": "execute_result"
    }
   ],
   "source": [
    "list1[1:6:1]"
   ]
  },
  {
   "cell_type": "code",
   "execution_count": 121,
   "id": "cf8f012c-b83b-4712-9e5f-21131ed47979",
   "metadata": {},
   "outputs": [],
   "source": [
    "list1.append([4,5,6])"
   ]
  },
  {
   "cell_type": "code",
   "execution_count": 123,
   "id": "3cf914dc-166e-4d29-9187-7cd57fe2944d",
   "metadata": {},
   "outputs": [
    {
     "data": {
      "text/plain": [
       "[1, 2, 3.3, 4.4, 55.5, 1, 2, 3, [4, 5, 6]]"
      ]
     },
     "execution_count": 123,
     "metadata": {},
     "output_type": "execute_result"
    }
   ],
   "source": [
    "list1"
   ]
  },
  {
   "cell_type": "code",
   "execution_count": 133,
   "id": "c6e022a0-7a4f-41d4-b09e-5786aa3e4ae1",
   "metadata": {},
   "outputs": [
    {
     "data": {
      "text/plain": [
       "[4, 5, 6]"
      ]
     },
     "execution_count": 133,
     "metadata": {},
     "output_type": "execute_result"
    }
   ],
   "source": [
    "list1[8]"
   ]
  },
  {
   "cell_type": "code",
   "execution_count": 135,
   "id": "ea7fe506-f47b-4893-ad23-7bdf0f5fe8c1",
   "metadata": {},
   "outputs": [],
   "source": [
    "tup2=list1"
   ]
  },
  {
   "cell_type": "code",
   "execution_count": 137,
   "id": "eac4dc9b-1a35-4eae-8df3-5e5590b44101",
   "metadata": {},
   "outputs": [
    {
     "data": {
      "text/plain": [
       "[1, 2, 3.3, 4.4, 55.5, 1, 2, 3, [4, 5, 6]]"
      ]
     },
     "execution_count": 137,
     "metadata": {},
     "output_type": "execute_result"
    }
   ],
   "source": [
    "tup2"
   ]
  },
  {
   "cell_type": "code",
   "execution_count": 139,
   "id": "f621ba97-4642-4361-9f94-ba0c7678d762",
   "metadata": {},
   "outputs": [],
   "source": [
    "tup2.append(5)"
   ]
  },
  {
   "cell_type": "code",
   "execution_count": 143,
   "id": "c04cb08b-e778-4b27-8acf-ff51387b79e7",
   "metadata": {},
   "outputs": [
    {
     "data": {
      "text/plain": [
       "(1, 2, 3.3, 4.4, 55.5, 1, 2, 3, [4, 5, 6], 5)"
      ]
     },
     "execution_count": 143,
     "metadata": {},
     "output_type": "execute_result"
    }
   ],
   "source": [
    "tuple(tup2)"
   ]
  },
  {
   "cell_type": "code",
   "execution_count": 145,
   "id": "57200460-bc07-4371-af02-2c3c76ca509c",
   "metadata": {},
   "outputs": [],
   "source": [
    "tup2.append(5)"
   ]
  },
  {
   "cell_type": "code",
   "execution_count": 147,
   "id": "1d02802f-ad0e-4e99-9b97-2fa9b8dd62bb",
   "metadata": {},
   "outputs": [
    {
     "data": {
      "text/plain": [
       "[1, 2, 3.3, 4.4, 55.5, 1, 2, 3, [4, 5, 6], 5, 5]"
      ]
     },
     "execution_count": 147,
     "metadata": {},
     "output_type": "execute_result"
    }
   ],
   "source": [
    "tup2"
   ]
  },
  {
   "cell_type": "code",
   "execution_count": 149,
   "id": "08444034-ae4e-4afb-9a7f-8bdc4e12ce36",
   "metadata": {},
   "outputs": [
    {
     "data": {
      "text/plain": [
       "2"
      ]
     },
     "execution_count": 149,
     "metadata": {},
     "output_type": "execute_result"
    }
   ],
   "source": [
    "tup2.count(5)"
   ]
  },
  {
   "cell_type": "code",
   "execution_count": 151,
   "id": "964ce6df-a802-4ce7-9bcb-414dc0f0cdcb",
   "metadata": {},
   "outputs": [
    {
     "data": {
      "text/plain": [
       "(1, 2, 3.3, 4.4, 55.5, 1, 2, 3, [4, 5, 6], 5, 5)"
      ]
     },
     "execution_count": 151,
     "metadata": {},
     "output_type": "execute_result"
    }
   ],
   "source": [
    "tuple(list1)"
   ]
  },
  {
   "cell_type": "code",
   "execution_count": 153,
   "id": "c5cc8243-0662-4691-8c05-542ff77dfbe2",
   "metadata": {},
   "outputs": [],
   "source": [
    "list1.append(5)"
   ]
  },
  {
   "cell_type": "code",
   "execution_count": 155,
   "id": "76529983-5211-4174-a106-ecf8bcb44ef7",
   "metadata": {},
   "outputs": [
    {
     "data": {
      "text/plain": [
       "[1, 2, 3.3, 4.4, 55.5, 1, 2, 3, [4, 5, 6], 5, 5, 5]"
      ]
     },
     "execution_count": 155,
     "metadata": {},
     "output_type": "execute_result"
    }
   ],
   "source": [
    "list1"
   ]
  },
  {
   "cell_type": "code",
   "execution_count": 157,
   "id": "5909e6e2-005d-48c1-a168-69aaca1df479",
   "metadata": {},
   "outputs": [
    {
     "data": {
      "text/plain": [
       "1756141358464"
      ]
     },
     "execution_count": 157,
     "metadata": {},
     "output_type": "execute_result"
    }
   ],
   "source": [
    " id(list1)"
   ]
  },
  {
   "cell_type": "code",
   "execution_count": 159,
   "id": "3fa0540b-c27e-4027-8ecb-099fdadf322e",
   "metadata": {},
   "outputs": [
    {
     "data": {
      "text/plain": [
       "[1, 2, 3.3, 4.4, 55.5, 1, 2, 3, [4, 5, 6], 5, 5, 5]"
      ]
     },
     "execution_count": 159,
     "metadata": {},
     "output_type": "execute_result"
    }
   ],
   "source": [
    "list1"
   ]
  },
  {
   "cell_type": "code",
   "execution_count": 181,
   "id": "e537d2e8-6640-4f5d-a025-fbc2026608fc",
   "metadata": {},
   "outputs": [],
   "source": [
    "list1.remove(2)"
   ]
  },
  {
   "cell_type": "code",
   "execution_count": 183,
   "id": "8905ff56-9236-4c2d-900c-da9be1ece097",
   "metadata": {},
   "outputs": [
    {
     "data": {
      "text/plain": [
       "[3.3, 4.4, 55.5, 1, 2, 3, [4, 5, 6]]"
      ]
     },
     "execution_count": 183,
     "metadata": {},
     "output_type": "execute_result"
    }
   ],
   "source": [
    "list1"
   ]
  },
  {
   "cell_type": "code",
   "execution_count": 185,
   "id": "21c31d9f-6e34-4817-8731-d91db05230a1",
   "metadata": {},
   "outputs": [],
   "source": [
    "list1.append([678,789])"
   ]
  },
  {
   "cell_type": "code",
   "execution_count": 187,
   "id": "acfa9d39-726e-43bc-8990-7defb7747730",
   "metadata": {},
   "outputs": [
    {
     "data": {
      "text/plain": [
       "[3.3, 4.4, 55.5, 1, 2, 3, [4, 5, 6], [678, 789]]"
      ]
     },
     "execution_count": 187,
     "metadata": {},
     "output_type": "execute_result"
    }
   ],
   "source": [
    "list1"
   ]
  },
  {
   "cell_type": "code",
   "execution_count": 189,
   "id": "449e1a8e-b340-4d35-abe1-19a3d1ab80eb",
   "metadata": {},
   "outputs": [],
   "source": [
    "list1.extend([4,5,6])"
   ]
  },
  {
   "cell_type": "code",
   "execution_count": 191,
   "id": "64786855-9d17-46a4-9800-2dd6afa14d75",
   "metadata": {},
   "outputs": [
    {
     "data": {
      "text/plain": [
       "[3.3, 4.4, 55.5, 1, 2, 3, [4, 5, 6], [678, 789], 4, 5, 6]"
      ]
     },
     "execution_count": 191,
     "metadata": {},
     "output_type": "execute_result"
    }
   ],
   "source": [
    "list1"
   ]
  },
  {
   "cell_type": "code",
   "execution_count": 195,
   "id": "0b179180-09e8-42c5-82ec-8f6d18f041a5",
   "metadata": {},
   "outputs": [],
   "source": [
    "list1[1]=4"
   ]
  },
  {
   "cell_type": "code",
   "execution_count": 197,
   "id": "d7ff2fe3-f12b-46e3-9732-18dd86625ac0",
   "metadata": {},
   "outputs": [
    {
     "data": {
      "text/plain": [
       "[3.3, 4, 55.5, 1, 2, 3, [4, 5, 6], [678, 789], 4, 5, 6]"
      ]
     },
     "execution_count": 197,
     "metadata": {},
     "output_type": "execute_result"
    }
   ],
   "source": [
    "list1"
   ]
  },
  {
   "cell_type": "code",
   "execution_count": 199,
   "id": "3bf8306b-3a1e-4f96-b801-1f1bd1196c7f",
   "metadata": {},
   "outputs": [
    {
     "data": {
      "text/plain": [
       "(1, 2, 3.3, 4, 'karthik', 27.5, 55.5, 1, 2, 3)"
      ]
     },
     "execution_count": 199,
     "metadata": {},
     "output_type": "execute_result"
    }
   ],
   "source": [
    "tup1"
   ]
  },
  {
   "cell_type": "code",
   "execution_count": 209,
   "id": "5f9f6299-f3ae-4b10-9b2a-c42f0c2fa20e",
   "metadata": {},
   "outputs": [
    {
     "data": {
      "text/plain": [
       "4"
      ]
     },
     "execution_count": 209,
     "metadata": {},
     "output_type": "execute_result"
    }
   ],
   "source": [
    "tup1[3]"
   ]
  },
  {
   "cell_type": "code",
   "execution_count": 211,
   "id": "dfc33a41-3b83-4f6d-987f-a367e21563b5",
   "metadata": {},
   "outputs": [
    {
     "data": {
      "text/plain": [
       "(3.3, 4, 55.5, 1, 2, 3, [4, 5, 6], [678, 789], 4, 5, 6)"
      ]
     },
     "execution_count": 211,
     "metadata": {},
     "output_type": "execute_result"
    }
   ],
   "source": [
    "tuple(list1)"
   ]
  },
  {
   "cell_type": "code",
   "execution_count": 213,
   "id": "6eee8f5f-4bb9-4073-b9f8-963fa7058061",
   "metadata": {},
   "outputs": [
    {
     "data": {
      "text/plain": [
       "[3.3, 4, 55.5, 1, 2, 3, [4, 5, 6], [678, 789], 4, 5, 6]"
      ]
     },
     "execution_count": 213,
     "metadata": {},
     "output_type": "execute_result"
    }
   ],
   "source": [
    "list1"
   ]
  },
  {
   "cell_type": "code",
   "execution_count": 215,
   "id": "77137b6e-d750-48e4-ba5b-bfc842c80bf0",
   "metadata": {},
   "outputs": [],
   "source": [
    "temp=tuple(list1)"
   ]
  },
  {
   "cell_type": "code",
   "execution_count": 217,
   "id": "afd1e926-abf9-4ca9-affa-9037487931d0",
   "metadata": {},
   "outputs": [
    {
     "data": {
      "text/plain": [
       "(3.3, 4, 55.5, 1, 2, 3, [4, 5, 6], [678, 789], 4, 5, 6)"
      ]
     },
     "execution_count": 217,
     "metadata": {},
     "output_type": "execute_result"
    }
   ],
   "source": [
    "temp"
   ]
  },
  {
   "cell_type": "code",
   "execution_count": 219,
   "id": "1232b28c-5c5c-48f6-8595-405e504b9a76",
   "metadata": {},
   "outputs": [
    {
     "ename": "AttributeError",
     "evalue": "'tuple' object has no attribute 'append'",
     "output_type": "error",
     "traceback": [
      "\u001b[1;31m---------------------------------------------------------------------------\u001b[0m",
      "\u001b[1;31mAttributeError\u001b[0m                            Traceback (most recent call last)",
      "Cell \u001b[1;32mIn[219], line 1\u001b[0m\n\u001b[1;32m----> 1\u001b[0m temp\u001b[38;5;241m.\u001b[39mappend(\u001b[38;5;241m100\u001b[39m)\n",
      "\u001b[1;31mAttributeError\u001b[0m: 'tuple' object has no attribute 'append'"
     ]
    }
   ],
   "source": [
    "temp.append(100)"
   ]
  },
  {
   "cell_type": "code",
   "execution_count": 223,
   "id": "649a26f7-4a44-4207-a05d-4471eaa75fcc",
   "metadata": {},
   "outputs": [],
   "source": [
    "list1.append(44)"
   ]
  },
  {
   "cell_type": "code",
   "execution_count": 225,
   "id": "73ea4cfc-3a64-44d2-91dc-5c0f89e1b9ec",
   "metadata": {},
   "outputs": [
    {
     "data": {
      "text/plain": [
       "[3.3, 4, 55.5, 1, 2, 3, [4, 5, 6], [678, 789], 4, 5, 6, 44, 44]"
      ]
     },
     "execution_count": 225,
     "metadata": {},
     "output_type": "execute_result"
    }
   ],
   "source": [
    "list1"
   ]
  },
  {
   "cell_type": "code",
   "execution_count": 227,
   "id": "de3b1c28-3d86-4596-a343-ec02e68a667c",
   "metadata": {},
   "outputs": [
    {
     "data": {
      "text/plain": [
       "(3.3, 4, 55.5, 1, 2, 3, [4, 5, 6], [678, 789], 4, 5, 6)"
      ]
     },
     "execution_count": 227,
     "metadata": {},
     "output_type": "execute_result"
    }
   ],
   "source": [
    "temp"
   ]
  },
  {
   "cell_type": "code",
   "execution_count": 229,
   "id": "b208b4d1-77e8-4a7f-800b-75b304f712b7",
   "metadata": {},
   "outputs": [
    {
     "ename": "AttributeError",
     "evalue": "'tuple' object has no attribute 'append'",
     "output_type": "error",
     "traceback": [
      "\u001b[1;31m---------------------------------------------------------------------------\u001b[0m",
      "\u001b[1;31mAttributeError\u001b[0m                            Traceback (most recent call last)",
      "Cell \u001b[1;32mIn[229], line 1\u001b[0m\n\u001b[1;32m----> 1\u001b[0m temp\u001b[38;5;241m.\u001b[39mappend(\u001b[38;5;241m99\u001b[39m)\n",
      "\u001b[1;31mAttributeError\u001b[0m: 'tuple' object has no attribute 'append'"
     ]
    }
   ],
   "source": [
    "temp.append(99)"
   ]
  },
  {
   "cell_type": "code",
   "execution_count": 231,
   "id": "b6c44c65-13d5-47ec-a79d-4fb12d084515",
   "metadata": {},
   "outputs": [
    {
     "data": {
      "text/plain": [
       "1756141358464"
      ]
     },
     "execution_count": 231,
     "metadata": {},
     "output_type": "execute_result"
    }
   ],
   "source": [
    "id(list1)\n"
   ]
  },
  {
   "cell_type": "code",
   "execution_count": 233,
   "id": "2d57e10c-9062-44a3-96c8-175300fbaedb",
   "metadata": {},
   "outputs": [
    {
     "data": {
      "text/plain": [
       "1756197066304"
      ]
     },
     "execution_count": 233,
     "metadata": {},
     "output_type": "execute_result"
    }
   ],
   "source": [
    "id(temp)"
   ]
  },
  {
   "cell_type": "code",
   "execution_count": 235,
   "id": "9b7f6a88-b499-4b94-aeec-240e28d3764f",
   "metadata": {},
   "outputs": [
    {
     "data": {
      "text/plain": [
       "[3.3, 4, 55.5, 1, 2, 3, [4, 5, 6], [678, 789], 4, 5, 6, 44, 44]"
      ]
     },
     "execution_count": 235,
     "metadata": {},
     "output_type": "execute_result"
    }
   ],
   "source": [
    "list1"
   ]
  },
  {
   "cell_type": "code",
   "execution_count": 237,
   "id": "9c63f9f0-d925-441f-a01e-658dad1fb421",
   "metadata": {},
   "outputs": [
    {
     "data": {
      "text/plain": [
       "(3.3, 4, 55.5, 1, 2, 3, [4, 5, 6], [678, 789], 4, 5, 6)"
      ]
     },
     "execution_count": 237,
     "metadata": {},
     "output_type": "execute_result"
    }
   ],
   "source": [
    "temp"
   ]
  },
  {
   "cell_type": "code",
   "execution_count": 239,
   "id": "d76e8fe9-f1a3-4658-b5dc-229c0b5292a1",
   "metadata": {},
   "outputs": [
    {
     "data": {
      "text/plain": [
       "44"
      ]
     },
     "execution_count": 239,
     "metadata": {},
     "output_type": "execute_result"
    }
   ],
   "source": [
    "list1[-2]"
   ]
  },
  {
   "cell_type": "code",
   "execution_count": 245,
   "id": "6aed8cb2-b1e0-46ed-a2c1-c14f310c5af3",
   "metadata": {},
   "outputs": [
    {
     "data": {
      "text/plain": [
       "11"
      ]
     },
     "execution_count": 245,
     "metadata": {},
     "output_type": "execute_result"
    }
   ],
   "source": [
    "len(temp)"
   ]
  },
  {
   "cell_type": "code",
   "execution_count": 247,
   "id": "cab92446-7538-47d4-9561-013c5305a9d2",
   "metadata": {},
   "outputs": [],
   "source": [
    "list1=[1,2,3,4,5,6]"
   ]
  },
  {
   "cell_type": "code",
   "execution_count": 249,
   "id": "be8c4cc0-2903-41f5-bb62-e1717a4afd6e",
   "metadata": {},
   "outputs": [
    {
     "data": {
      "text/plain": [
       "[1, 2, 3, 4, 5, 6]"
      ]
     },
     "execution_count": 249,
     "metadata": {},
     "output_type": "execute_result"
    }
   ],
   "source": [
    "list1"
   ]
  },
  {
   "cell_type": "code",
   "execution_count": 251,
   "id": "1ad7184c-7d48-44af-9b4a-89ca161008d8",
   "metadata": {},
   "outputs": [],
   "source": [
    "list2=list1"
   ]
  },
  {
   "cell_type": "code",
   "execution_count": 253,
   "id": "13965961-e507-442c-bce6-a67aa51b4f87",
   "metadata": {},
   "outputs": [
    {
     "data": {
      "text/plain": [
       "[1, 2, 3, 4, 5, 6]"
      ]
     },
     "execution_count": 253,
     "metadata": {},
     "output_type": "execute_result"
    }
   ],
   "source": [
    "list2"
   ]
  },
  {
   "cell_type": "code",
   "execution_count": 275,
   "id": "a93f5739-00bd-43e1-9375-cc3b6ae44a51",
   "metadata": {},
   "outputs": [],
   "source": [
    "list3=list1.copy()"
   ]
  },
  {
   "cell_type": "code",
   "execution_count": 263,
   "id": "9433f8f5-ad79-4537-9cd6-6ab6321203f6",
   "metadata": {},
   "outputs": [
    {
     "name": "stdout",
     "output_type": "stream",
     "text": [
      "[1, 2, 3, 4, 5, 6]\n",
      "[1, 2, 3, 4, 5, 6]\n",
      "<built-in method copy of list object at 0x00000198E5821BC0>\n"
     ]
    }
   ],
   "source": [
    "print(list1)\n",
    "print(list2)\n",
    "print(list3)"
   ]
  },
  {
   "cell_type": "code",
   "execution_count": 265,
   "id": "37412cf7-d5ca-4782-ba86-3721b956f061",
   "metadata": {},
   "outputs": [
    {
     "name": "stdout",
     "output_type": "stream",
     "text": [
      "[1, 2, 3, 4, 5, 6]\n"
     ]
    }
   ],
   "source": [
    "print(list1)"
   ]
  },
  {
   "cell_type": "code",
   "execution_count": 267,
   "id": "00ddc57b-9799-44da-8bec-d069299e29af",
   "metadata": {},
   "outputs": [
    {
     "name": "stdout",
     "output_type": "stream",
     "text": [
      "karthiik\n"
     ]
    }
   ],
   "source": [
    "print('karthiik')"
   ]
  },
  {
   "cell_type": "code",
   "execution_count": 269,
   "id": "2e948d62-089f-4c62-a213-9da36c9b9199",
   "metadata": {},
   "outputs": [
    {
     "name": "stdout",
     "output_type": "stream",
     "text": [
      "[1, 2, 3, 4, 5, 6]\n"
     ]
    }
   ],
   "source": [
    "print(list1)"
   ]
  },
  {
   "cell_type": "code",
   "execution_count": 297,
   "id": "c5303371-98a0-409c-8ca8-8a6fddd2e85b",
   "metadata": {},
   "outputs": [
    {
     "name": "stdout",
     "output_type": "stream",
     "text": [
      "1756197166016\n",
      "1756197166016\n",
      "1756196183616\n"
     ]
    }
   ],
   "source": [
    "print(id(list1))\n",
    "print(id(list2))\n",
    "print(id(list3))"
   ]
  },
  {
   "cell_type": "code",
   "execution_count": 279,
   "id": "4361a77e-eef6-436a-87ca-b4fdc5259376",
   "metadata": {},
   "outputs": [],
   "source": [
    "list1.append(7)"
   ]
  },
  {
   "cell_type": "code",
   "execution_count": 339,
   "id": "1e5ff912-c7f3-4825-90d6-82085fc83680",
   "metadata": {},
   "outputs": [],
   "source": [
    "karthik=(1,2,3,4,5)"
   ]
  },
  {
   "cell_type": "code",
   "execution_count": 341,
   "id": "09840067-d2fc-48f3-859f-46538f81accd",
   "metadata": {},
   "outputs": [
    {
     "data": {
      "text/plain": [
       "(1, 2, 3, 4, 5)"
      ]
     },
     "execution_count": 341,
     "metadata": {},
     "output_type": "execute_result"
    }
   ],
   "source": [
    "karthik"
   ]
  },
  {
   "cell_type": "code",
   "execution_count": 343,
   "id": "2352d883-83d9-4705-81a0-5f210244c9f7",
   "metadata": {},
   "outputs": [
    {
     "ename": "AttributeError",
     "evalue": "'tuple' object has no attribute 'append'",
     "output_type": "error",
     "traceback": [
      "\u001b[1;31m---------------------------------------------------------------------------\u001b[0m",
      "\u001b[1;31mAttributeError\u001b[0m                            Traceback (most recent call last)",
      "Cell \u001b[1;32mIn[343], line 1\u001b[0m\n\u001b[1;32m----> 1\u001b[0m karthik\u001b[38;5;241m.\u001b[39mappend(\u001b[38;5;241m6\u001b[39m)\n",
      "\u001b[1;31mAttributeError\u001b[0m: 'tuple' object has no attribute 'append'"
     ]
    }
   ],
   "source": [
    "karthik.append(6)"
   ]
  },
  {
   "cell_type": "code",
   "execution_count": 357,
   "id": "dd65fd69-b1d5-4829-b50d-a6fc9fc18c3e",
   "metadata": {},
   "outputs": [],
   "source": [
    "tempkar=list(karthik)"
   ]
  },
  {
   "cell_type": "code",
   "execution_count": 359,
   "id": "bb34fb28-b86a-4a61-918c-454b31f02c73",
   "metadata": {},
   "outputs": [
    {
     "data": {
      "text/plain": [
       "[1, 2, 3, 4, 5]"
      ]
     },
     "execution_count": 359,
     "metadata": {},
     "output_type": "execute_result"
    }
   ],
   "source": [
    "tempkar"
   ]
  },
  {
   "cell_type": "code",
   "execution_count": 361,
   "id": "f24920f8-33af-4695-9bd3-9270c750a895",
   "metadata": {},
   "outputs": [],
   "source": [
    "tempkar.append(6)"
   ]
  },
  {
   "cell_type": "code",
   "execution_count": 281,
   "id": "3d8e6cd9-ea06-4c94-8277-22d66e1c290d",
   "metadata": {},
   "outputs": [
    {
     "data": {
      "text/plain": [
       "[1, 2, 3, 4, 5, 6, 7]"
      ]
     },
     "execution_count": 281,
     "metadata": {},
     "output_type": "execute_result"
    }
   ],
   "source": [
    "list2"
   ]
  },
  {
   "cell_type": "code",
   "execution_count": 363,
   "id": "b0f918df-5cc0-4219-bfa9-f8116f9b2af9",
   "metadata": {},
   "outputs": [],
   "source": [
    "tempkar.append(8)"
   ]
  },
  {
   "cell_type": "code",
   "execution_count": 365,
   "id": "84c87c28-421d-4ff2-9853-658c94cc0d20",
   "metadata": {},
   "outputs": [
    {
     "data": {
      "text/plain": [
       "[1, 2, 3, 4, 5, 6, 8]"
      ]
     },
     "execution_count": 365,
     "metadata": {},
     "output_type": "execute_result"
    }
   ],
   "source": [
    "tempkar"
   ]
  },
  {
   "cell_type": "code",
   "execution_count": null,
   "id": "9fd3913b-9bcc-45ed-9c51-e230965241d1",
   "metadata": {},
   "outputs": [],
   "source": []
  },
  {
   "cell_type": "code",
   "execution_count": 367,
   "id": "b24cbc93-5b70-4228-a5a5-6b20b1442a39",
   "metadata": {},
   "outputs": [],
   "source": [
    "karthik=tuple(tempkar)"
   ]
  },
  {
   "cell_type": "code",
   "execution_count": 369,
   "id": "c345d53a-ddce-445f-a701-b20601f068ce",
   "metadata": {},
   "outputs": [
    {
     "data": {
      "text/plain": [
       "(1, 2, 3, 4, 5, 6, 8)"
      ]
     },
     "execution_count": 369,
     "metadata": {},
     "output_type": "execute_result"
    }
   ],
   "source": [
    "karthik\n"
   ]
  },
  {
   "cell_type": "code",
   "execution_count": null,
   "id": "9d9ba952-fc01-4f6e-807d-2febc79121e7",
   "metadata": {},
   "outputs": [],
   "source": []
  },
  {
   "cell_type": "code",
   "execution_count": 283,
   "id": "468773fa-b2ab-45e0-88d6-1b4041b71b42",
   "metadata": {},
   "outputs": [
    {
     "data": {
      "text/plain": [
       "[1, 2, 3, 4, 5, 6, 7]"
      ]
     },
     "execution_count": 283,
     "metadata": {},
     "output_type": "execute_result"
    }
   ],
   "source": [
    "list1"
   ]
  },
  {
   "cell_type": "code",
   "execution_count": 285,
   "id": "32753218-c7e5-434e-b7d1-7c5f68a7049e",
   "metadata": {},
   "outputs": [
    {
     "data": {
      "text/plain": [
       "7"
      ]
     },
     "execution_count": 285,
     "metadata": {},
     "output_type": "execute_result"
    }
   ],
   "source": [
    "list2.pop(6)"
   ]
  },
  {
   "cell_type": "code",
   "execution_count": 287,
   "id": "3342af8d-4f7c-46a5-a302-8511a9f77eb5",
   "metadata": {},
   "outputs": [
    {
     "data": {
      "text/plain": [
       "[1, 2, 3, 4, 5, 6]"
      ]
     },
     "execution_count": 287,
     "metadata": {},
     "output_type": "execute_result"
    }
   ],
   "source": [
    "list2"
   ]
  },
  {
   "cell_type": "code",
   "execution_count": 289,
   "id": "b72def4c-08c6-4033-9e7e-0e710d4c59fe",
   "metadata": {},
   "outputs": [
    {
     "data": {
      "text/plain": [
       "[1, 2, 3, 4, 5, 6]"
      ]
     },
     "execution_count": 289,
     "metadata": {},
     "output_type": "execute_result"
    }
   ],
   "source": [
    "list1"
   ]
  },
  {
   "cell_type": "code",
   "execution_count": 291,
   "id": "a9137bee-3bfe-4f23-9a4b-1856eb1fc75b",
   "metadata": {},
   "outputs": [],
   "source": [
    "list3.append(7)"
   ]
  },
  {
   "cell_type": "code",
   "execution_count": 299,
   "id": "6ecd40be-8f49-4b4d-a463-8ac66aa855f7",
   "metadata": {},
   "outputs": [
    {
     "data": {
      "text/plain": [
       "1756196183616"
      ]
     },
     "execution_count": 299,
     "metadata": {},
     "output_type": "execute_result"
    }
   ],
   "source": [
    "id(list1)\n",
    "id(list2)\n",
    "id(list3)"
   ]
  },
  {
   "cell_type": "code",
   "execution_count": 301,
   "id": "33165640-e251-497c-9a25-ae101b041066",
   "metadata": {},
   "outputs": [
    {
     "data": {
      "text/plain": [
       "1756196183616"
      ]
     },
     "execution_count": 301,
     "metadata": {},
     "output_type": "execute_result"
    }
   ],
   "source": [
    "id(list3)"
   ]
  },
  {
   "cell_type": "code",
   "execution_count": 309,
   "id": "d1173161-cf78-480f-b7f7-cd4b04bae40b",
   "metadata": {},
   "outputs": [
    {
     "data": {
      "text/plain": [
       "1756197166016"
      ]
     },
     "execution_count": 309,
     "metadata": {},
     "output_type": "execute_result"
    }
   ],
   "source": [
    "id(list1)\n",
    "id(list2)"
   ]
  },
  {
   "cell_type": "markdown",
   "id": "f8f885a5-eb5f-4324-b655-9655d076ee37",
   "metadata": {},
   "source": [
    "SET"
   ]
  },
  {
   "cell_type": "code",
   "execution_count": 311,
   "id": "d2a2f90d-f0a8-4f30-be95-369da61011b0",
   "metadata": {},
   "outputs": [],
   "source": [
    "set1={1,2,3,4,5,5}"
   ]
  },
  {
   "cell_type": "code",
   "execution_count": 313,
   "id": "1d66d93b-4712-433b-a94e-68ab29b55855",
   "metadata": {},
   "outputs": [
    {
     "data": {
      "text/plain": [
       "{1, 2, 3, 4, 5}"
      ]
     },
     "execution_count": 313,
     "metadata": {},
     "output_type": "execute_result"
    }
   ],
   "source": [
    "set1"
   ]
  },
  {
   "cell_type": "code",
   "execution_count": 317,
   "id": "47400bf1-b4ba-4a0c-a3dc-66cf170b46c3",
   "metadata": {},
   "outputs": [
    {
     "name": "stdout",
     "output_type": "stream",
     "text": [
      "{1, 2, 3, 4, 5}\n"
     ]
    }
   ],
   "source": [
    "print(set1)"
   ]
  },
  {
   "cell_type": "code",
   "execution_count": 321,
   "id": "399f74e8-7570-4ccd-a079-d185794f42bb",
   "metadata": {},
   "outputs": [
    {
     "data": {
      "text/plain": [
       "{1, 2, 3, 4, 5}"
      ]
     },
     "execution_count": 321,
     "metadata": {},
     "output_type": "execute_result"
    }
   ],
   "source": [
    "set1"
   ]
  },
  {
   "cell_type": "code",
   "execution_count": 323,
   "id": "d2c39643-4042-4873-a510-b5c88cebf7fd",
   "metadata": {},
   "outputs": [],
   "source": [
    "set2={10,20,30,40,60.6,103.5,99,10,40}"
   ]
  },
  {
   "cell_type": "code",
   "execution_count": 325,
   "id": "7fdac001-31db-4ec9-a41e-d68a512b6ce5",
   "metadata": {},
   "outputs": [
    {
     "data": {
      "text/plain": [
       "{10, 20, 30, 40, 60.6, 99, 103.5}"
      ]
     },
     "execution_count": 325,
     "metadata": {},
     "output_type": "execute_result"
    }
   ],
   "source": [
    "set2"
   ]
  },
  {
   "cell_type": "code",
   "execution_count": 327,
   "id": "908e0dfe-b6ee-4c6f-b627-dc0896609ac6",
   "metadata": {},
   "outputs": [
    {
     "name": "stdout",
     "output_type": "stream",
     "text": [
      "{99, 20, 103.5, 40, 10, 60.6, 30}\n"
     ]
    }
   ],
   "source": [
    "print(set2)"
   ]
  },
  {
   "cell_type": "code",
   "execution_count": 329,
   "id": "ecea3d5b-ce53-4d10-aa5a-25b5fe8a79cf",
   "metadata": {},
   "outputs": [
    {
     "name": "stdout",
     "output_type": "stream",
     "text": [
      "{99, 20, 103.5, 40, 10, 60.6, 30}\n"
     ]
    }
   ],
   "source": [
    "print(set2)"
   ]
  },
  {
   "cell_type": "code",
   "execution_count": 331,
   "id": "3c52b146-e111-4cda-b4a2-4e903268828e",
   "metadata": {},
   "outputs": [],
   "source": [
    "set2.add(55)"
   ]
  },
  {
   "cell_type": "code",
   "execution_count": 333,
   "id": "dd5538c9-3b3a-4396-9890-5206aa6b5894",
   "metadata": {},
   "outputs": [
    {
     "data": {
      "text/plain": [
       "{10, 20, 30, 40, 55, 60.6, 99, 103.5}"
      ]
     },
     "execution_count": 333,
     "metadata": {},
     "output_type": "execute_result"
    }
   ],
   "source": [
    "set2"
   ]
  },
  {
   "cell_type": "code",
   "execution_count": 335,
   "id": "2077a5d8-358a-43f0-bfc0-2a247f3da339",
   "metadata": {},
   "outputs": [
    {
     "name": "stdout",
     "output_type": "stream",
     "text": [
      "{99, 20, 55, 103.5, 40, 10, 60.6, 30}\n"
     ]
    }
   ],
   "source": [
    "print(set2)"
   ]
  },
  {
   "cell_type": "code",
   "execution_count": 337,
   "id": "c52ebcea-4b0d-4bda-afdc-16dc9c0898d6",
   "metadata": {},
   "outputs": [
    {
     "ename": "TypeError",
     "evalue": "'set' object is not subscriptable",
     "output_type": "error",
     "traceback": [
      "\u001b[1;31m---------------------------------------------------------------------------\u001b[0m",
      "\u001b[1;31mTypeError\u001b[0m                                 Traceback (most recent call last)",
      "Cell \u001b[1;32mIn[337], line 1\u001b[0m\n\u001b[1;32m----> 1\u001b[0m set2[\u001b[38;5;241m2\u001b[39m]\n",
      "\u001b[1;31mTypeError\u001b[0m: 'set' object is not subscriptable"
     ]
    }
   ],
   "source": [
    "set2[2]"
   ]
  },
  {
   "cell_type": "markdown",
   "id": "39ca33f8-f968-4f20-b429-51790b5b351f",
   "metadata": {},
   "source": [
    "###dictionary"
   ]
  },
  {
   "cell_type": "code",
   "execution_count": 371,
   "id": "b500e3db-751b-4c90-b995-f26d83f820dc",
   "metadata": {},
   "outputs": [
    {
     "data": {
      "text/plain": [
       "{10, 20, 30, 40, 55, 60.6, 99, 103.5}"
      ]
     },
     "execution_count": 371,
     "metadata": {},
     "output_type": "execute_result"
    }
   ],
   "source": [
    "set2\n"
   ]
  },
  {
   "cell_type": "code",
   "execution_count": 375,
   "id": "14f9aafd-9b1e-4967-8948-74b9b749fb4b",
   "metadata": {},
   "outputs": [],
   "source": [
    "set3={'karthik',28,'india'}"
   ]
  },
  {
   "cell_type": "code",
   "execution_count": 377,
   "id": "9deb0fc6-e1af-4dd6-94c6-d82b8d55326e",
   "metadata": {},
   "outputs": [
    {
     "data": {
      "text/plain": [
       "{28, 'india', 'karthik'}"
      ]
     },
     "execution_count": 377,
     "metadata": {},
     "output_type": "execute_result"
    }
   ],
   "source": [
    "set3"
   ]
  },
  {
   "cell_type": "code",
   "execution_count": 399,
   "id": "6f65a606-a1d9-4c6c-a37b-c2037da99d69",
   "metadata": {},
   "outputs": [],
   "source": [
    "set4={'name':'karthik','age':28,'place':'india','name': 'karthik'}"
   ]
  },
  {
   "cell_type": "code",
   "execution_count": 401,
   "id": "6a09ccf1-7547-4843-a940-d8128ca95eff",
   "metadata": {},
   "outputs": [
    {
     "data": {
      "text/plain": [
       "{'name': 'karthik', 'age': 28, 'place': 'india'}"
      ]
     },
     "execution_count": 401,
     "metadata": {},
     "output_type": "execute_result"
    }
   ],
   "source": [
    "set4"
   ]
  },
  {
   "cell_type": "code",
   "execution_count": 391,
   "id": "78cec2f9-4fd4-46a6-97b9-1ee8641b9a9f",
   "metadata": {},
   "outputs": [
    {
     "data": {
      "text/plain": [
       "'karthik'"
      ]
     },
     "execution_count": 391,
     "metadata": {},
     "output_type": "execute_result"
    }
   ],
   "source": [
    "set4['name']"
   ]
  },
  {
   "cell_type": "code",
   "execution_count": 395,
   "id": "09cb2361-4c72-416f-b875-45baa61858be",
   "metadata": {},
   "outputs": [],
   "source": [
    "set4['place']='usa'"
   ]
  },
  {
   "cell_type": "code",
   "execution_count": 397,
   "id": "c4144bcd-8da2-46c5-8763-795c791bea8a",
   "metadata": {},
   "outputs": [
    {
     "data": {
      "text/plain": [
       "{'name': 'karthik', 'age': 28, 'place': 'usa'}"
      ]
     },
     "execution_count": 397,
     "metadata": {},
     "output_type": "execute_result"
    }
   ],
   "source": [
    "set4"
   ]
  },
  {
   "cell_type": "code",
   "execution_count": 407,
   "id": "1c338ee1-9b95-47f2-8ce8-e52ea85cffbd",
   "metadata": {},
   "outputs": [],
   "source": [
    "set5={'name':'karthik','age':28,'place':'india'}\n"
   ]
  },
  {
   "cell_type": "code",
   "execution_count": 409,
   "id": "6de42dd6-0723-46e5-ab22-b7c5989cfe31",
   "metadata": {},
   "outputs": [
    {
     "data": {
      "text/plain": [
       "{'name': 'karthik', 'age': 28, 'place': 'india', 'chary': 'karthik'}"
      ]
     },
     "execution_count": 409,
     "metadata": {},
     "output_type": "execute_result"
    }
   ],
   "source": [
    "set5"
   ]
  },
  {
   "cell_type": "code",
   "execution_count": null,
   "id": "b59ebd26-805b-4de6-a7a8-b90b334e7135",
   "metadata": {},
   "outputs": [],
   "source": []
  }
 ],
 "metadata": {
  "kernelspec": {
   "display_name": "Python 3 (ipykernel)",
   "language": "python",
   "name": "python3"
  },
  "language_info": {
   "codemirror_mode": {
    "name": "ipython",
    "version": 3
   },
   "file_extension": ".py",
   "mimetype": "text/x-python",
   "name": "python",
   "nbconvert_exporter": "python",
   "pygments_lexer": "ipython3",
   "version": "3.12.4"
  }
 },
 "nbformat": 4,
 "nbformat_minor": 5
}
