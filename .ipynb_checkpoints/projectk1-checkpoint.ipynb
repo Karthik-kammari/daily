{
 "cells": [
  {
   "cell_type": "markdown",
   "id": "414539b9-baaf-4ecc-8898-efd73bfeb114",
   "metadata": {},
   "source": [
    "## 1st task"
   ]
  },
  {
   "cell_type": "code",
   "execution_count": 1,
   "id": "862e4495-34ce-46f4-981d-8668b05a5503",
   "metadata": {},
   "outputs": [
    {
     "name": "stdout",
     "output_type": "stream",
     "text": [
      "Hello world\n"
     ]
    }
   ],
   "source": [
    "print('Hello world')"
   ]
  },
  {
   "cell_type": "markdown",
   "id": "a03a04eb-a8a9-4ac5-9475-6a64cafcdf47",
   "metadata": {},
   "source": [
    "## 2nd task"
   ]
  },
  {
   "cell_type": "code",
   "execution_count": 404,
   "id": "42a5c553-e4fc-4ed6-aa90-bb9f91a30099",
   "metadata": {},
   "outputs": [
    {
     "name": "stdout",
     "output_type": "stream",
     "text": [
      "Please select an operator -,+,*,/\n"
     ]
    },
    {
     "name": "stdin",
     "output_type": "stream",
     "text": [
      "Enter the 1st number 3\n",
      "Enter the operator *\n",
      "Enter the 2nd number 10\n"
     ]
    },
    {
     "name": "stdout",
     "output_type": "stream",
     "text": [
      "your selected operator is ' * '.\n",
      "your result is  30.0\n"
     ]
    }
   ],
   "source": [
    "print('Please select an operator -,+,*,/')\n",
    "\n",
    "N1=float(input('Enter the 1st number'))\n",
    "op=input('Enter the operator')\n",
    "N2=float(input('Enter the 2nd number'))\n",
    "\n",
    "if op=='+':\n",
    "    print(\"your selected operator is '\",op,\"'.\")\n",
    "    print('your result is ',N1+N2)\n",
    "elif op=='-':\n",
    "    print(\"your selected operator is '\",op,\"'.\")\n",
    "    print('your result is ',N1-N2)\n",
    "elif op=='*':\n",
    "    print(\"your selected operator is '\",op,\"'.\")\n",
    "    print('your result is ',N1*N2)\n",
    "elif op=='/':\n",
    "    print(\"your selected operator is '\",op,\"'.\")\n",
    "    print('your result is ',N1/N2)\n",
    "else:\n",
    "    print(\"Incorrect operator.Please select the correct operator\")\n",
    "    \n",
    "\n",
    "\n"
   ]
  },
  {
   "cell_type": "markdown",
   "id": "e68e8edf-3e88-4171-bc1a-0b703394b6b7",
   "metadata": {},
   "source": [
    "## 3rd task"
   ]
  },
  {
   "cell_type": "code",
   "execution_count": 85,
   "id": "ca41a859-474a-445b-96c3-c7e566f3e6d8",
   "metadata": {},
   "outputs": [],
   "source": [
    "import random\n"
   ]
  },
  {
   "cell_type": "code",
   "execution_count": 193,
   "id": "7eff2bf6-9e6c-48e3-9a57-f54349617cf8",
   "metadata": {},
   "outputs": [
    {
     "name": "stdin",
     "output_type": "stream",
     "text": [
      "Enter the guess 5\n"
     ]
    },
    {
     "name": "stdout",
     "output_type": "stream",
     "text": [
      "You guess is too high try again\n"
     ]
    },
    {
     "name": "stdin",
     "output_type": "stream",
     "text": [
      "Enter the guess 12\n"
     ]
    },
    {
     "name": "stdout",
     "output_type": "stream",
     "text": [
      "please select the numbers between 1 to 10\n"
     ]
    },
    {
     "name": "stdin",
     "output_type": "stream",
     "text": [
      "Enter the guess 4\n"
     ]
    },
    {
     "name": "stdout",
     "output_type": "stream",
     "text": [
      "You guess is too high try again\n"
     ]
    },
    {
     "name": "stdin",
     "output_type": "stream",
     "text": [
      "Enter the guess 3\n"
     ]
    },
    {
     "name": "stdout",
     "output_type": "stream",
     "text": [
      "Wow! congratuations. your guess is correct\n"
     ]
    }
   ],
   "source": [
    "\n",
    "secret_number = random.randint(1, 10)\n",
    "\n",
    "Guess=None\n",
    "\n",
    "while Guess!=secret_number:\n",
    "    Guess=int(input('Enter the guess'))\n",
    "    if Guess<=10 and Guess>0:\n",
    "        if Guess<secret_number:\n",
    "            print(\"You guess is too low try again\")\n",
    "        elif Guess>secret_number:\n",
    "            print(\"You guess is too high try again\")\n",
    "        else:\n",
    "            print('Wow! congratuations. your guess is correct')\n",
    "    else:\n",
    "        print('please select the numbers between 1 to 10')\n",
    "\n"
   ]
  },
  {
   "cell_type": "code",
   "execution_count": 195,
   "id": "3f5b9254-42c4-4b8d-b7be-676ab56b5535",
   "metadata": {},
   "outputs": [
    {
     "data": {
      "text/plain": [
       "3"
      ]
     },
     "execution_count": 195,
     "metadata": {},
     "output_type": "execute_result"
    }
   ],
   "source": [
    "secret_number"
   ]
  },
  {
   "cell_type": "code",
   "execution_count": 7,
   "id": "af9974dc-550b-485c-a0c2-5d8a80d8b80d",
   "metadata": {},
   "outputs": [],
   "source": [
    "to_do=[]"
   ]
  },
  {
   "cell_type": "markdown",
   "id": "9b5ff2d4-d3a7-4eb5-b913-ed05bb089da9",
   "metadata": {},
   "source": [
    "### To-do list\n"
   ]
  },
  {
   "cell_type": "code",
   "execution_count": 11,
   "id": "ecabde50-cb34-47fe-aaf3-36969d72c233",
   "metadata": {},
   "outputs": [
    {
     "name": "stdout",
     "output_type": "stream",
     "text": [
      "Task list: ['cleaning the rooms']\n",
      "Please select your action\n",
      "1.Add\n",
      "2.Edit\n",
      "3.Delete a particular list\n",
      "4.Delete whole list\n",
      "5.Exit\n"
     ]
    },
    {
     "name": "stdin",
     "output_type": "stream",
     "text": [
      "Please select your action:  2\n",
      "Enter the index no. to edit:  0\n",
      "Enter the updated task:  saloon\n"
     ]
    },
    {
     "name": "stdout",
     "output_type": "stream",
     "text": [
      "Task edited successfully\n",
      "Updated list:  ['saloon']\n"
     ]
    }
   ],
   "source": [
    "print('Task list:',to_do)\n",
    "\n",
    "print('Please select your action')\n",
    "print('1.Add')\n",
    "print('2.Edit')\n",
    "print('3.Delete a particular list')\n",
    "print('4.Delete whole list')\n",
    "print('5.Exit')\n",
    "\n",
    "\n",
    "\n",
    "option=int(input('Please select your action: '))\n",
    "if option>=1 and option<=5:\n",
    "    if option==1:\n",
    "        add=input('Enter your task: ')\n",
    "        to_do.append(add)\n",
    "        print('Task added successfully to your list')\n",
    "        print('Updated list: ',to_do)\n",
    "    elif option==2:\n",
    "        indno=int(input('Enter the index no. to edit: '))-1\n",
    "        to_do[indno]=str(input('Enter the updated task: '))\n",
    "        print('Task edited successfully')\n",
    "        print('Updated list: ',to_do)\n",
    "    elif option==3:\n",
    "        delt=int(input('Enter the task index to delete: '))-1\n",
    "        to_do.pop(delt)\n",
    "        print('Task deleted successfully')\n",
    "        print('Updated list: ',to_do)\n",
    "    elif option==4:\n",
    "        to_do.clear()\n",
    "        print('Cleared whole list')\n",
    "    \n",
    "    else:\n",
    "        print('Exiting the application.')\n",
    "        \n",
    "else:\n",
    "    print('invalid selection. please select the correct action from the above')\n",
    "    \n"
   ]
  },
  {
   "cell_type": "code",
   "execution_count": 13,
   "id": "bfb16d65-8015-49ac-956e-774ad6dca8b8",
   "metadata": {},
   "outputs": [
    {
     "data": {
      "text/plain": [
       "['saloon']"
      ]
     },
     "execution_count": 13,
     "metadata": {},
     "output_type": "execute_result"
    }
   ],
   "source": [
    "to_do"
   ]
  },
  {
   "cell_type": "code",
   "execution_count": null,
   "id": "a98cb24a-af70-4961-8c39-ec03975eb172",
   "metadata": {},
   "outputs": [],
   "source": []
  }
 ],
 "metadata": {
  "kernelspec": {
   "display_name": "Python 3 (ipykernel)",
   "language": "python",
   "name": "python3"
  },
  "language_info": {
   "codemirror_mode": {
    "name": "ipython",
    "version": 3
   },
   "file_extension": ".py",
   "mimetype": "text/x-python",
   "name": "python",
   "nbconvert_exporter": "python",
   "pygments_lexer": "ipython3",
   "version": "3.12.4"
  }
 },
 "nbformat": 4,
 "nbformat_minor": 5
}
