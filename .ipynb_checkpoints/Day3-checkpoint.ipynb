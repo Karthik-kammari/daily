{
 "cells": [
  {
   "cell_type": "code",
   "execution_count": 248,
   "id": "28dfc7e9-e5e2-4b82-ad3d-0aa56a28870c",
   "metadata": {},
   "outputs": [],
   "source": [
    "class Instagram:\n",
    "    def __init__(self,accountname,accountid,followers,following,posts):\n",
    "        self.accname=accountname\n",
    "        self.accid=accountid\n",
    "        self.folwrs=followers\n",
    "        self.folwng=following\n",
    "        self.psts=posts"
   ]
  },
  {
   "cell_type": "code",
   "execution_count": 254,
   "id": "a3dcfd84-9b0e-4f1e-a128-510994177404",
   "metadata": {},
   "outputs": [],
   "source": [
    "insta1=Instagram('karthik kammari','karthik6071',560,45,185)\n",
    "insta2=Instagram('om prakash bavandla','prakash001',45,566,88)\n",
    "insta3=Instagram('kolan vikram','reddykolan125',360,1005,5)\n",
    "insta4=Instagram('sandeep bogam','sandysandy30',445,700,136)"
   ]
  },
  {
   "cell_type": "code",
   "execution_count": 252,
   "id": "82d9ab5f-85f7-4043-91a1-71cafc3b9882",
   "metadata": {},
   "outputs": [
    {
     "data": {
      "text/plain": [
       "'karthik kammari'"
      ]
     },
     "execution_count": 252,
     "metadata": {},
     "output_type": "execute_result"
    }
   ],
   "source": [
    "insta1.accname"
   ]
  },
  {
   "cell_type": "code",
   "execution_count": 449,
   "id": "5c588aae-ccde-4b5e-a1d4-252eb13b7192",
   "metadata": {},
   "outputs": [],
   "source": [
    "\n",
    "numbers=[]\n",
    "\n",
    "def ev_od(numbers):\n",
    "    for val in numbers:\n",
    "        val=int(input('Enter the numbers'))\n",
    "        numbers.append(val)\n",
    "        if val%2==0:\n",
    "            print(val,'are even')\n",
    "        else:\n",
    "            print(val,'are odd')\n",
    "            "
   ]
  },
  {
   "cell_type": "code",
   "execution_count": 453,
   "id": "1ffaf949-df13-44c7-9f6d-1052da75c391",
   "metadata": {},
   "outputs": [
    {
     "ename": "TypeError",
     "evalue": "ev_od() missing 1 required positional argument: 'numbers'",
     "output_type": "error",
     "traceback": [
      "\u001b[1;31m---------------------------------------------------------------------------\u001b[0m",
      "\u001b[1;31mTypeError\u001b[0m                                 Traceback (most recent call last)",
      "Cell \u001b[1;32mIn[453], line 1\u001b[0m\n\u001b[1;32m----> 1\u001b[0m ev_od()\n",
      "\u001b[1;31mTypeError\u001b[0m: ev_od() missing 1 required positional argument: 'numbers'"
     ]
    }
   ],
   "source": [
    "ev_od()"
   ]
  },
  {
   "cell_type": "code",
   "execution_count": null,
   "id": "486d2786-6c6d-4711-abc2-da20c357515b",
   "metadata": {},
   "outputs": [],
   "source": []
  },
  {
   "cell_type": "code",
   "execution_count": 431,
   "id": "c73fec60-5972-4f3b-b537-b15c3d655999",
   "metadata": {},
   "outputs": [
    {
     "ename": "TypeError",
     "evalue": "'function' object is not iterable",
     "output_type": "error",
     "traceback": [
      "\u001b[1;31m---------------------------------------------------------------------------\u001b[0m",
      "\u001b[1;31mTypeError\u001b[0m                                 Traceback (most recent call last)",
      "Cell \u001b[1;32mIn[431], line 1\u001b[0m\n\u001b[1;32m----> 1\u001b[0m ev_od(\u001b[38;5;241m25\u001b[39m,\u001b[38;5;241m66\u001b[39m,\u001b[38;5;241m22\u001b[39m)\n",
      "Cell \u001b[1;32mIn[429], line 2\u001b[0m, in \u001b[0;36mev_od\u001b[1;34m(num1, num2, num3)\u001b[0m\n\u001b[0;32m      1\u001b[0m \u001b[38;5;28;01mdef\u001b[39;00m \u001b[38;5;21mev_od\u001b[39m(num1,num2,num3):\n\u001b[1;32m----> 2\u001b[0m     \u001b[38;5;28;01mfor\u001b[39;00m val \u001b[38;5;129;01min\u001b[39;00m ev_od:\n\u001b[0;32m      3\u001b[0m         \u001b[38;5;28;01mif\u001b[39;00m val\u001b[38;5;241m%\u001b[39m\u001b[38;5;241m2\u001b[39m\u001b[38;5;241m==\u001b[39m\u001b[38;5;241m0\u001b[39m:\n\u001b[0;32m      4\u001b[0m             \u001b[38;5;28mprint\u001b[39m(val)\n",
      "\u001b[1;31mTypeError\u001b[0m: 'function' object is not iterable"
     ]
    }
   ],
   "source": [
    "ev_od(25,66,22)"
   ]
  },
  {
   "cell_type": "code",
   "execution_count": 344,
   "id": "e1480b73-7715-4e0c-aa41-5b05337c875d",
   "metadata": {},
   "outputs": [
    {
     "name": "stdin",
     "output_type": "stream",
     "text": [
      "enter the numbers 10\n",
      "enter the numbers 13\n",
      "enter the numbers 15\n",
      "enter the numbers 17\n",
      "enter the numbers 20\n"
     ]
    }
   ],
   "source": [
    "even=[]\n",
    "odd=[]\n",
    "for val in range(5):\n",
    "    val=int(input('enter the numbers'))\n",
    "    if val%2==0:\n",
    "        even.append(val)\n",
    "    else:\n",
    "        odd.append(val)\n",
    "        "
   ]
  },
  {
   "cell_type": "code",
   "execution_count": 346,
   "id": "61a2b4c3-3809-40f8-a70b-872e1a99714a",
   "metadata": {},
   "outputs": [
    {
     "data": {
      "text/plain": [
       "[10, 20]"
      ]
     },
     "execution_count": 346,
     "metadata": {},
     "output_type": "execute_result"
    }
   ],
   "source": [
    "even"
   ]
  },
  {
   "cell_type": "code",
   "execution_count": 288,
   "id": "0a478f15-4697-440a-b085-1cf08a8990c6",
   "metadata": {},
   "outputs": [
    {
     "name": "stdin",
     "output_type": "stream",
     "text": [
      "enter the number 10\n",
      "enter the number 12\n",
      "enter the number 15\n",
      "enter the number 16\n"
     ]
    }
   ],
   "source": [
    "num1=[]\n",
    "for val in range(4):\n",
    "    val=int(input('enter the number'))\n",
    "    num1.append(val) "
   ]
  },
  {
   "cell_type": "code",
   "execution_count": 290,
   "id": "f04142b5-e9ab-4f6a-8430-6cf8bd2d2ef1",
   "metadata": {},
   "outputs": [
    {
     "data": {
      "text/plain": [
       "[10, 12, 15, 16]"
      ]
     },
     "execution_count": 290,
     "metadata": {},
     "output_type": "execute_result"
    }
   ],
   "source": [
    "num1"
   ]
  },
  {
   "cell_type": "code",
   "execution_count": 278,
   "id": "5baf054d-c90d-4617-90e8-a5e9e6b3d1ba",
   "metadata": {},
   "outputs": [
    {
     "name": "stdin",
     "output_type": "stream",
     "text": [
      "enter the number 10\n",
      "enter the number 12\n"
     ]
    },
    {
     "ename": "AttributeError",
     "evalue": "'tuple' object has no attribute 'append'",
     "output_type": "error",
     "traceback": [
      "\u001b[1;31m---------------------------------------------------------------------------\u001b[0m",
      "\u001b[1;31mAttributeError\u001b[0m                            Traceback (most recent call last)",
      "Cell \u001b[1;32mIn[278], line 3\u001b[0m\n\u001b[0;32m      1\u001b[0m num1\u001b[38;5;241m=\u001b[39m\u001b[38;5;28mint\u001b[39m(\u001b[38;5;28minput\u001b[39m(\u001b[38;5;124m'\u001b[39m\u001b[38;5;124menter the number\u001b[39m\u001b[38;5;124m'\u001b[39m))\n\u001b[1;32m----> 3\u001b[0m ev_od(num1)\n",
      "Cell \u001b[1;32mIn[276], line 5\u001b[0m, in \u001b[0;36mev_od\u001b[1;34m(num1)\u001b[0m\n\u001b[0;32m      3\u001b[0m \u001b[38;5;28;01mfor\u001b[39;00m val \u001b[38;5;129;01min\u001b[39;00m \u001b[38;5;28mrange\u001b[39m(\u001b[38;5;241m4\u001b[39m):\n\u001b[0;32m      4\u001b[0m     val\u001b[38;5;241m=\u001b[39m\u001b[38;5;28mint\u001b[39m(\u001b[38;5;28minput\u001b[39m(\u001b[38;5;124m'\u001b[39m\u001b[38;5;124menter the number\u001b[39m\u001b[38;5;124m'\u001b[39m))\n\u001b[1;32m----> 5\u001b[0m     num1\u001b[38;5;241m.\u001b[39mappend(val)\n\u001b[0;32m      6\u001b[0m     \u001b[38;5;28mprint\u001b[39m(num1,\u001b[38;5;124m'\u001b[39m\u001b[38;5;124myour entered number\u001b[39m\u001b[38;5;124m'\u001b[39m)\n\u001b[0;32m      7\u001b[0m     \u001b[38;5;28;01mfor\u001b[39;00m val \u001b[38;5;129;01min\u001b[39;00m num1:\n",
      "\u001b[1;31mAttributeError\u001b[0m: 'tuple' object has no attribute 'append'"
     ]
    }
   ],
   "source": [
    "num1=int(input('enter the number'))\n",
    "\n",
    "ev_od(num1)"
   ]
  },
  {
   "cell_type": "code",
   "execution_count": 274,
   "id": "f25c9cb1-cd39-4304-87fd-892dc9981380",
   "metadata": {},
   "outputs": [
    {
     "ename": "TypeError",
     "evalue": "ev_od() takes 1 positional argument but 4 were given",
     "output_type": "error",
     "traceback": [
      "\u001b[1;31m---------------------------------------------------------------------------\u001b[0m",
      "\u001b[1;31mTypeError\u001b[0m                                 Traceback (most recent call last)",
      "Cell \u001b[1;32mIn[274], line 1\u001b[0m\n\u001b[1;32m----> 1\u001b[0m ev_od(\u001b[38;5;241m26\u001b[39m,\u001b[38;5;241m25\u001b[39m,\u001b[38;5;241m27\u001b[39m,\u001b[38;5;241m28\u001b[39m)\n",
      "\u001b[1;31mTypeError\u001b[0m: ev_od() takes 1 positional argument but 4 were given"
     ]
    }
   ],
   "source": [
    "ev_od(26,25,27,28)"
   ]
  },
  {
   "cell_type": "code",
   "execution_count": 378,
   "id": "15a130a8-75ab-483f-8e59-98811fc1d11a",
   "metadata": {},
   "outputs": [],
   "source": [
    "def count_even_odd():\n",
    "    # Take input from the user and convert it to a set of integers\n",
    "    numbers = set(map(int, input(\"Enter numbers separated by spaces: \").split()))\n",
    "    \n",
    "    even_count = 0\n",
    "    odd_count = 0\n",
    "    \n",
    "    for num in numbers:\n",
    "        if num % 2 == 0:\n",
    "            even_count += 1\n",
    "        else:\n",
    "            odd_count += 1\n",
    "            \n",
    "    print(f\"Even count: {even_count}, Odd count: {odd_count}\")"
   ]
  },
  {
   "cell_type": "code",
   "execution_count": 384,
   "id": "fcad89c8-a111-45f5-899c-2034318b0079",
   "metadata": {},
   "outputs": [
    {
     "name": "stdin",
     "output_type": "stream",
     "text": [
      "Enter numbers separated by spaces:  10,21\n"
     ]
    },
    {
     "ename": "ValueError",
     "evalue": "invalid literal for int() with base 10: '10,21'",
     "output_type": "error",
     "traceback": [
      "\u001b[1;31m---------------------------------------------------------------------------\u001b[0m",
      "\u001b[1;31mValueError\u001b[0m                                Traceback (most recent call last)",
      "Cell \u001b[1;32mIn[384], line 1\u001b[0m\n\u001b[1;32m----> 1\u001b[0m count_even_odd()\n",
      "Cell \u001b[1;32mIn[378], line 3\u001b[0m, in \u001b[0;36mcount_even_odd\u001b[1;34m()\u001b[0m\n\u001b[0;32m      1\u001b[0m \u001b[38;5;28;01mdef\u001b[39;00m \u001b[38;5;21mcount_even_odd\u001b[39m():\n\u001b[0;32m      2\u001b[0m     \u001b[38;5;66;03m# Take input from the user and convert it to a set of integers\u001b[39;00m\n\u001b[1;32m----> 3\u001b[0m     numbers \u001b[38;5;241m=\u001b[39m \u001b[38;5;28mset\u001b[39m(\u001b[38;5;28mmap\u001b[39m(\u001b[38;5;28mint\u001b[39m, \u001b[38;5;28minput\u001b[39m(\u001b[38;5;124m\"\u001b[39m\u001b[38;5;124mEnter numbers separated by spaces: \u001b[39m\u001b[38;5;124m\"\u001b[39m)\u001b[38;5;241m.\u001b[39msplit()))\n\u001b[0;32m      5\u001b[0m     even_count \u001b[38;5;241m=\u001b[39m \u001b[38;5;241m0\u001b[39m\n\u001b[0;32m      6\u001b[0m     odd_count \u001b[38;5;241m=\u001b[39m \u001b[38;5;241m0\u001b[39m\n",
      "\u001b[1;31mValueError\u001b[0m: invalid literal for int() with base 10: '10,21'"
     ]
    }
   ],
   "source": [
    "count_even_odd()"
   ]
  },
  {
   "cell_type": "code",
   "execution_count": 386,
   "id": "1cab2a67-8621-45f6-8f98-19b7edbc811e",
   "metadata": {},
   "outputs": [],
   "source": [
    "def evod(numbers):\n",
    "    for val in numbers:\n",
    "        if val%2==0:\n",
    "            print(val,'are even')\n",
    "        else:\n",
    "            print(val,'are odd')"
   ]
  },
  {
   "cell_type": "code",
   "execution_count": 388,
   "id": "c074b55c-52fd-4498-8d0b-29f94631537f",
   "metadata": {},
   "outputs": [],
   "source": [
    "numbers=[1,2,3,4,5]"
   ]
  },
  {
   "cell_type": "code",
   "execution_count": 390,
   "id": "3fd48822-fac7-47e1-ba27-711c1851483d",
   "metadata": {},
   "outputs": [
    {
     "name": "stdout",
     "output_type": "stream",
     "text": [
      "1 are odd\n",
      "2 are even\n",
      "3 are odd\n",
      "4 are even\n",
      "5 are odd\n"
     ]
    }
   ],
   "source": [
    "evod(numbers)"
   ]
  },
  {
   "cell_type": "code",
   "execution_count": 412,
   "id": "3acaa00e-4222-40f7-bff5-28ccb9e968f5",
   "metadata": {},
   "outputs": [],
   "source": [
    "database={'keerthana':\"She always thinks she's a beautiful girl, and the truth is, she really is\",'karthik':'he is a handsome guy'}"
   ]
  },
  {
   "cell_type": "code",
   "execution_count": 418,
   "id": "0499805d-a5f0-4480-9069-134517190e82",
   "metadata": {},
   "outputs": [
    {
     "name": "stdin",
     "output_type": "stream",
     "text": [
      "Enter the name:  keerthana\n"
     ]
    },
    {
     "name": "stdout",
     "output_type": "stream",
     "text": [
      "She always thinks she's a beautiful girl, and the truth is, she really is\n"
     ]
    }
   ],
   "source": [
    "Name=str(input('Enter the name: ')).lower()\n",
    "print(database[Name])"
   ]
  },
  {
   "cell_type": "code",
   "execution_count": 420,
   "id": "27b773e4-acd1-4813-bc9d-95698dcc9f7d",
   "metadata": {},
   "outputs": [],
   "source": [
    "def karchar(num1,num2,num3):\n",
    "    print(num1+num2+num3)"
   ]
  },
  {
   "cell_type": "code",
   "execution_count": 422,
   "id": "b2a9abe4-cb18-418c-b036-fc92557a9452",
   "metadata": {},
   "outputs": [
    {
     "name": "stdout",
     "output_type": "stream",
     "text": [
      "13\n"
     ]
    }
   ],
   "source": [
    "karchar(2,5,6\n",
    "       )"
   ]
  },
  {
   "cell_type": "code",
   "execution_count": 23,
   "id": "7b315676-5b5e-47cf-b069-22284e832726",
   "metadata": {},
   "outputs": [
    {
     "name": "stdin",
     "output_type": "stream",
     "text": [
      "enter the number 10\n",
      "enter the number 10\n",
      "enter the number 10\n",
      "enter the number 10\n",
      "enter the number 10\n",
      "enter the number 10\n",
      "enter the number 10\n",
      "enter the number 10\n",
      "enter the number 10\n",
      "enter the number 10\n"
     ]
    }
   ],
   "source": [
    "chary=[]\n",
    "for i in range(10):\n",
    "    i=int(input('enter the number'))\n",
    "    chary.append(i)\n",
    "    "
   ]
  },
  {
   "cell_type": "code",
   "execution_count": 31,
   "id": "dbbf6cd0-40b5-4f92-ab79-aaf084e92913",
   "metadata": {},
   "outputs": [
    {
     "name": "stdout",
     "output_type": "stream",
     "text": [
      "100\n"
     ]
    }
   ],
   "source": [
    "print(sum(chary))"
   ]
  },
  {
   "cell_type": "code",
   "execution_count": 42,
   "id": "20ca5b75-b91b-4373-8f08-ff322816045b",
   "metadata": {},
   "outputs": [
    {
     "name": "stdout",
     "output_type": "stream",
     "text": [
      "karthik\n",
      "karthik\n",
      "karthik\n",
      "karthik\n",
      "karthik\n"
     ]
    }
   ],
   "source": [
    "i=10\n",
    "\n",
    "while i<15:\n",
    "    print('karthik')\n",
    "    i=i+1\n",
    "\n",
    "\n"
   ]
  },
  {
   "cell_type": "code",
   "execution_count": 85,
   "id": "71a76891-9bab-4fdb-83e8-ea2361837176",
   "metadata": {},
   "outputs": [],
   "source": [
    "def maxi(num1,num2):\n",
    "    if num1>num2:\n",
    "        result=num1\n",
    "    else:\n",
    "        result=num2\n",
    "    return result\n",
    "\n",
    "def main(i,j):\n",
    "    k=maxi(i,j)\n",
    "    print('the values of',i,'and',j,'the greater value is',k)\n"
   ]
  },
  {
   "cell_type": "code",
   "execution_count": 93,
   "id": "85813be5-bef9-4008-8bd8-9e0468c6259c",
   "metadata": {},
   "outputs": [
    {
     "data": {
      "text/plain": [
       "451111"
      ]
     },
     "execution_count": 93,
     "metadata": {},
     "output_type": "execute_result"
    }
   ],
   "source": [
    "maxi(451111,3899\n",
    "     )"
   ]
  },
  {
   "cell_type": "code",
   "execution_count": 95,
   "id": "a3f74760-1b42-4852-b463-9a4b63827ef0",
   "metadata": {},
   "outputs": [
    {
     "data": {
      "text/plain": [
       "45"
      ]
     },
     "execution_count": 95,
     "metadata": {},
     "output_type": "execute_result"
    }
   ],
   "source": [
    "maxi(45,6)"
   ]
  },
  {
   "cell_type": "code",
   "execution_count": 73,
   "id": "7f4d2d0a-d2c2-4d5d-b045-ab4d07ca5214",
   "metadata": {},
   "outputs": [
    {
     "name": "stdout",
     "output_type": "stream",
     "text": [
      "the values of 37 and 38 the greater value is 38\n",
      "hello\n"
     ]
    }
   ],
   "source": [
    "main(37,38)\n",
    "\n",
    "print('hello')"
   ]
  },
  {
   "cell_type": "code",
   "execution_count": 111,
   "id": "cb53cba2-61b4-4630-b867-1738137be9e1",
   "metadata": {},
   "outputs": [],
   "source": [
    "def mxi(num1,num2):\n",
    "    if num1>num2:\n",
    "        result=num1\n",
    "    else:\n",
    "        result=num2\n",
    "    return result"
   ]
  },
  {
   "cell_type": "code",
   "execution_count": 113,
   "id": "9cc0f1ba-e383-4cd4-9463-3905b93662ec",
   "metadata": {},
   "outputs": [
    {
     "data": {
      "text/plain": [
       "10"
      ]
     },
     "execution_count": 113,
     "metadata": {},
     "output_type": "execute_result"
    }
   ],
   "source": [
    "mxi(5,10)"
   ]
  },
  {
   "cell_type": "code",
   "execution_count": 115,
   "id": "0818eb98-a39b-4519-bdb3-b343a84e5a14",
   "metadata": {},
   "outputs": [],
   "source": [
    "k=mxi(5,10\n",
    "     )"
   ]
  },
  {
   "cell_type": "code",
   "execution_count": 117,
   "id": "b3de600d-2ce0-414a-b0cc-9365140e8c0d",
   "metadata": {},
   "outputs": [
    {
     "data": {
      "text/plain": [
       "10"
      ]
     },
     "execution_count": 117,
     "metadata": {},
     "output_type": "execute_result"
    }
   ],
   "source": [
    "k"
   ]
  },
  {
   "cell_type": "code",
   "execution_count": 31,
   "id": "07da2db0-b304-45a5-bda7-31c668108c53",
   "metadata": {},
   "outputs": [],
   "source": [
    "def square(num):\n",
    "    \n",
    "    return num**2"
   ]
  },
  {
   "cell_type": "code",
   "execution_count": 33,
   "id": "ac916f7a-b62c-4ee7-b15d-fd13044609d4",
   "metadata": {},
   "outputs": [
    {
     "data": {
      "text/plain": [
       "100"
      ]
     },
     "execution_count": 33,
     "metadata": {},
     "output_type": "execute_result"
    }
   ],
   "source": [
    "square(10)"
   ]
  },
  {
   "cell_type": "code",
   "execution_count": 43,
   "id": "0a5f6cd1-430c-4b2e-b579-b9b072357b59",
   "metadata": {},
   "outputs": [],
   "source": [
    "sq=lambda n1,n2:n1*n2"
   ]
  },
  {
   "cell_type": "code",
   "execution_count": 45,
   "id": "9dba14ec-00c1-458c-91bb-83276ef43a0e",
   "metadata": {},
   "outputs": [
    {
     "data": {
      "text/plain": [
       "8"
      ]
     },
     "execution_count": 45,
     "metadata": {},
     "output_type": "execute_result"
    }
   ],
   "source": [
    "sq(2,4)"
   ]
  },
  {
   "cell_type": "code",
   "execution_count": 47,
   "id": "9355b596-4a66-403e-a615-722269b5bf99",
   "metadata": {},
   "outputs": [],
   "source": [
    "char=lambda num1,num2,num3:num1+num2+num3"
   ]
  },
  {
   "cell_type": "code",
   "execution_count": 49,
   "id": "5cb7249e-0303-43f3-9ade-9d58fed2f1db",
   "metadata": {},
   "outputs": [
    {
     "data": {
      "text/plain": [
       "<function __main__.<lambda>(num1, num2, num3)>"
      ]
     },
     "execution_count": 49,
     "metadata": {},
     "output_type": "execute_result"
    }
   ],
   "source": [
    "char"
   ]
  },
  {
   "cell_type": "code",
   "execution_count": 51,
   "id": "4fb4278a-83a0-4be1-8b6c-35fb126d1f3d",
   "metadata": {},
   "outputs": [
    {
     "data": {
      "text/plain": [
       "15"
      ]
     },
     "execution_count": 51,
     "metadata": {},
     "output_type": "execute_result"
    }
   ],
   "source": [
    "char(4,5,6)"
   ]
  },
  {
   "cell_type": "code",
   "execution_count": 53,
   "id": "f8de850e-409f-44a9-a7f9-4f72979557cd",
   "metadata": {},
   "outputs": [],
   "source": [
    "addition=lambda num1,num2:num1+num2"
   ]
  },
  {
   "cell_type": "code",
   "execution_count": 65,
   "id": "65cc7d93-ecc0-4694-98a7-7a2a3c31fca7",
   "metadata": {},
   "outputs": [
    {
     "data": {
      "text/plain": [
       "28"
      ]
     },
     "execution_count": 65,
     "metadata": {},
     "output_type": "execute_result"
    }
   ],
   "source": [
    "addition(25,3)"
   ]
  },
  {
   "cell_type": "code",
   "execution_count": 61,
   "id": "121d5a2f-c170-47cd-ae9d-c916361ef92e",
   "metadata": {},
   "outputs": [],
   "source": [
    "def add(n1,n2):\n",
    "    return n1+n2"
   ]
  },
  {
   "cell_type": "code",
   "execution_count": 63,
   "id": "5f13ec4e-e7a0-4e5d-8aa8-8ceaee97a58b",
   "metadata": {},
   "outputs": [
    {
     "data": {
      "text/plain": [
       "27"
      ]
     },
     "execution_count": 63,
     "metadata": {},
     "output_type": "execute_result"
    }
   ],
   "source": [
    "add(25,2)"
   ]
  },
  {
   "cell_type": "code",
   "execution_count": 115,
   "id": "3461ac70-0de6-4204-8b05-6da6f8d464c1",
   "metadata": {},
   "outputs": [
    {
     "ename": "SyntaxError",
     "evalue": "invalid syntax (3950881484.py, line 1)",
     "output_type": "error",
     "traceback": [
      "\u001b[1;36m  Cell \u001b[1;32mIn[115], line 1\u001b[1;36m\u001b[0m\n\u001b[1;33m    max=lambda num1,num2:return num1,'is greater' if num1>num2 else return num2,'is a greater'\u001b[0m\n\u001b[1;37m                         ^\u001b[0m\n\u001b[1;31mSyntaxError\u001b[0m\u001b[1;31m:\u001b[0m invalid syntax\n"
     ]
    }
   ],
   "source": [
    "max=lambda num1,num2:return num1,'is greater' if num1>num2 else return num2,'is a greater'\n"
   ]
  },
  {
   "cell_type": "code",
   "execution_count": 117,
   "id": "ca82e97c-028f-42ec-acff-f7451a133ced",
   "metadata": {},
   "outputs": [
    {
     "name": "stdout",
     "output_type": "stream",
     "text": [
      "111 greater\n"
     ]
    }
   ],
   "source": [
    "max(32,111)"
   ]
  },
  {
   "cell_type": "code",
   "execution_count": 119,
   "id": "2a28ebdf-897d-49e3-8b17-5638f7f3be57",
   "metadata": {},
   "outputs": [
    {
     "ename": "NameError",
     "evalue": "name 'add3' is not defined",
     "output_type": "error",
     "traceback": [
      "\u001b[1;31m---------------------------------------------------------------------------\u001b[0m",
      "\u001b[1;31mNameError\u001b[0m                                 Traceback (most recent call last)",
      "Cell \u001b[1;32mIn[119], line 4\u001b[0m\n\u001b[0;32m      1\u001b[0m num1\u001b[38;5;241m=\u001b[39m\u001b[38;5;241m2\u001b[39m\n\u001b[0;32m      2\u001b[0m num2\u001b[38;5;241m=\u001b[39m\u001b[38;5;241m4\u001b[39m\n\u001b[1;32m----> 4\u001b[0m add3(\u001b[38;5;28;01mlambda\u001b[39;00m num1,num2:num1\u001b[38;5;241m+\u001b[39mnum2)\n",
      "\u001b[1;31mNameError\u001b[0m: name 'add3' is not defined"
     ]
    }
   ],
   "source": [
    "num1=2\n",
    "num2=4\n",
    "\n",
    "add3(lambda num1,num2:num1+num2)"
   ]
  },
  {
   "cell_type": "code",
   "execution_count": 123,
   "id": "08c0768a-85fc-4584-a81d-bb1e2903c0b3",
   "metadata": {},
   "outputs": [],
   "source": [
    "import math"
   ]
  },
  {
   "cell_type": "code",
   "execution_count": 145,
   "id": "7c7b862c-fe17-47b0-847f-ca77c2f2b47c",
   "metadata": {},
   "outputs": [
    {
     "data": {
      "text/plain": [
       "1"
      ]
     },
     "execution_count": 145,
     "metadata": {},
     "output_type": "execute_result"
    }
   ],
   "source": [
    "math.factorial(1)"
   ]
  },
  {
   "cell_type": "code",
   "execution_count": 147,
   "id": "6cfd8547-e6b1-44ff-b25d-1aede5c8949a",
   "metadata": {},
   "outputs": [
    {
     "data": {
      "text/plain": [
       "7.483314773547883"
      ]
     },
     "execution_count": 147,
     "metadata": {},
     "output_type": "execute_result"
    }
   ],
   "source": [
    "math.sqrt(56)"
   ]
  },
  {
   "cell_type": "code",
   "execution_count": 149,
   "id": "f1ffd7dd-1f11-4640-9b78-59bc203621ba",
   "metadata": {},
   "outputs": [
    {
     "data": {
      "text/plain": [
       "['__doc__',\n",
       " '__loader__',\n",
       " '__name__',\n",
       " '__package__',\n",
       " '__spec__',\n",
       " 'acos',\n",
       " 'acosh',\n",
       " 'asin',\n",
       " 'asinh',\n",
       " 'atan',\n",
       " 'atan2',\n",
       " 'atanh',\n",
       " 'cbrt',\n",
       " 'ceil',\n",
       " 'comb',\n",
       " 'copysign',\n",
       " 'cos',\n",
       " 'cosh',\n",
       " 'degrees',\n",
       " 'dist',\n",
       " 'e',\n",
       " 'erf',\n",
       " 'erfc',\n",
       " 'exp',\n",
       " 'exp2',\n",
       " 'expm1',\n",
       " 'fabs',\n",
       " 'factorial',\n",
       " 'floor',\n",
       " 'fmod',\n",
       " 'frexp',\n",
       " 'fsum',\n",
       " 'gamma',\n",
       " 'gcd',\n",
       " 'hypot',\n",
       " 'inf',\n",
       " 'isclose',\n",
       " 'isfinite',\n",
       " 'isinf',\n",
       " 'isnan',\n",
       " 'isqrt',\n",
       " 'lcm',\n",
       " 'ldexp',\n",
       " 'lgamma',\n",
       " 'log',\n",
       " 'log10',\n",
       " 'log1p',\n",
       " 'log2',\n",
       " 'modf',\n",
       " 'nan',\n",
       " 'nextafter',\n",
       " 'perm',\n",
       " 'pi',\n",
       " 'pow',\n",
       " 'prod',\n",
       " 'radians',\n",
       " 'remainder',\n",
       " 'sin',\n",
       " 'sinh',\n",
       " 'sqrt',\n",
       " 'sumprod',\n",
       " 'tan',\n",
       " 'tanh',\n",
       " 'tau',\n",
       " 'trunc',\n",
       " 'ulp']"
      ]
     },
     "execution_count": 149,
     "metadata": {},
     "output_type": "execute_result"
    }
   ],
   "source": [
    "dir(math)"
   ]
  },
  {
   "cell_type": "code",
   "execution_count": 162,
   "id": "ef63f42a-f0b2-4290-aaac-353852c934cf",
   "metadata": {},
   "outputs": [
    {
     "data": {
      "text/plain": [
       "['ArrowDtype',\n",
       " 'BooleanDtype',\n",
       " 'Categorical',\n",
       " 'CategoricalDtype',\n",
       " 'CategoricalIndex',\n",
       " 'DataFrame',\n",
       " 'DateOffset',\n",
       " 'DatetimeIndex',\n",
       " 'DatetimeTZDtype',\n",
       " 'ExcelFile',\n",
       " 'ExcelWriter',\n",
       " 'Flags',\n",
       " 'Float32Dtype',\n",
       " 'Float64Dtype',\n",
       " 'Grouper',\n",
       " 'HDFStore',\n",
       " 'Index',\n",
       " 'IndexSlice',\n",
       " 'Int16Dtype',\n",
       " 'Int32Dtype',\n",
       " 'Int64Dtype',\n",
       " 'Int8Dtype',\n",
       " 'Interval',\n",
       " 'IntervalDtype',\n",
       " 'IntervalIndex',\n",
       " 'MultiIndex',\n",
       " 'NA',\n",
       " 'NaT',\n",
       " 'NamedAgg',\n",
       " 'Period',\n",
       " 'PeriodDtype',\n",
       " 'PeriodIndex',\n",
       " 'RangeIndex',\n",
       " 'Series',\n",
       " 'SparseDtype',\n",
       " 'StringDtype',\n",
       " 'Timedelta',\n",
       " 'TimedeltaIndex',\n",
       " 'Timestamp',\n",
       " 'UInt16Dtype',\n",
       " 'UInt32Dtype',\n",
       " 'UInt64Dtype',\n",
       " 'UInt8Dtype',\n",
       " '__all__',\n",
       " '__builtins__',\n",
       " '__cached__',\n",
       " '__doc__',\n",
       " '__docformat__',\n",
       " '__file__',\n",
       " '__git_version__',\n",
       " '__loader__',\n",
       " '__name__',\n",
       " '__package__',\n",
       " '__path__',\n",
       " '__spec__',\n",
       " '__version__',\n",
       " '_built_with_meson',\n",
       " '_config',\n",
       " '_is_numpy_dev',\n",
       " '_libs',\n",
       " '_pandas_datetime_CAPI',\n",
       " '_pandas_parser_CAPI',\n",
       " '_testing',\n",
       " '_typing',\n",
       " '_version_meson',\n",
       " 'annotations',\n",
       " 'api',\n",
       " 'array',\n",
       " 'arrays',\n",
       " 'bdate_range',\n",
       " 'compat',\n",
       " 'concat',\n",
       " 'core',\n",
       " 'crosstab',\n",
       " 'cut',\n",
       " 'date_range',\n",
       " 'describe_option',\n",
       " 'errors',\n",
       " 'eval',\n",
       " 'factorize',\n",
       " 'from_dummies',\n",
       " 'get_dummies',\n",
       " 'get_option',\n",
       " 'infer_freq',\n",
       " 'interval_range',\n",
       " 'io',\n",
       " 'isna',\n",
       " 'isnull',\n",
       " 'json_normalize',\n",
       " 'lreshape',\n",
       " 'melt',\n",
       " 'merge',\n",
       " 'merge_asof',\n",
       " 'merge_ordered',\n",
       " 'notna',\n",
       " 'notnull',\n",
       " 'offsets',\n",
       " 'option_context',\n",
       " 'options',\n",
       " 'pandas',\n",
       " 'period_range',\n",
       " 'pivot',\n",
       " 'pivot_table',\n",
       " 'plotting',\n",
       " 'qcut',\n",
       " 'read_clipboard',\n",
       " 'read_csv',\n",
       " 'read_excel',\n",
       " 'read_feather',\n",
       " 'read_fwf',\n",
       " 'read_gbq',\n",
       " 'read_hdf',\n",
       " 'read_html',\n",
       " 'read_json',\n",
       " 'read_orc',\n",
       " 'read_parquet',\n",
       " 'read_pickle',\n",
       " 'read_sas',\n",
       " 'read_spss',\n",
       " 'read_sql',\n",
       " 'read_sql_query',\n",
       " 'read_sql_table',\n",
       " 'read_stata',\n",
       " 'read_table',\n",
       " 'read_xml',\n",
       " 'reset_option',\n",
       " 'set_eng_float_format',\n",
       " 'set_option',\n",
       " 'show_versions',\n",
       " 'test',\n",
       " 'testing',\n",
       " 'timedelta_range',\n",
       " 'to_datetime',\n",
       " 'to_numeric',\n",
       " 'to_pickle',\n",
       " 'to_timedelta',\n",
       " 'tseries',\n",
       " 'unique',\n",
       " 'util',\n",
       " 'value_counts',\n",
       " 'wide_to_long']"
      ]
     },
     "execution_count": 162,
     "metadata": {},
     "output_type": "execute_result"
    }
   ],
   "source": [
    "import pandas\n",
    "\n",
    "dir(pandas)"
   ]
  },
  {
   "cell_type": "code",
   "execution_count": 156,
   "id": "2e13757f-709f-4c2f-aad2-94824cd21094",
   "metadata": {},
   "outputs": [
    {
     "data": {
      "text/plain": [
       "['FacetGrid',\n",
       " 'JointGrid',\n",
       " 'PairGrid',\n",
       " '__builtins__',\n",
       " '__cached__',\n",
       " '__doc__',\n",
       " '__file__',\n",
       " '__loader__',\n",
       " '__name__',\n",
       " '__package__',\n",
       " '__path__',\n",
       " '__spec__',\n",
       " '__version__',\n",
       " '_base',\n",
       " '_compat',\n",
       " '_core',\n",
       " '_docstrings',\n",
       " '_orig_rc_params',\n",
       " '_statistics',\n",
       " '_stats',\n",
       " 'algorithms',\n",
       " 'axes_style',\n",
       " 'axisgrid',\n",
       " 'barplot',\n",
       " 'blend_palette',\n",
       " 'boxenplot',\n",
       " 'boxplot',\n",
       " 'categorical',\n",
       " 'catplot',\n",
       " 'choose_colorbrewer_palette',\n",
       " 'choose_cubehelix_palette',\n",
       " 'choose_dark_palette',\n",
       " 'choose_diverging_palette',\n",
       " 'choose_light_palette',\n",
       " 'clustermap',\n",
       " 'cm',\n",
       " 'color_palette',\n",
       " 'colors',\n",
       " 'countplot',\n",
       " 'crayon_palette',\n",
       " 'crayons',\n",
       " 'cubehelix_palette',\n",
       " 'dark_palette',\n",
       " 'desaturate',\n",
       " 'despine',\n",
       " 'displot',\n",
       " 'distplot',\n",
       " 'distributions',\n",
       " 'diverging_palette',\n",
       " 'dogplot',\n",
       " 'ecdfplot',\n",
       " 'external',\n",
       " 'get_data_home',\n",
       " 'get_dataset_names',\n",
       " 'heatmap',\n",
       " 'histplot',\n",
       " 'hls_palette',\n",
       " 'husl_palette',\n",
       " 'jointplot',\n",
       " 'kdeplot',\n",
       " 'light_palette',\n",
       " 'lineplot',\n",
       " 'lmplot',\n",
       " 'load_dataset',\n",
       " 'matrix',\n",
       " 'miscplot',\n",
       " 'move_legend',\n",
       " 'mpl',\n",
       " 'mpl_palette',\n",
       " 'pairplot',\n",
       " 'palettes',\n",
       " 'palplot',\n",
       " 'plotting_context',\n",
       " 'pointplot',\n",
       " 'rcmod',\n",
       " 'regplot',\n",
       " 'regression',\n",
       " 'relational',\n",
       " 'relplot',\n",
       " 'reset_defaults',\n",
       " 'reset_orig',\n",
       " 'residplot',\n",
       " 'rugplot',\n",
       " 'saturate',\n",
       " 'scatterplot',\n",
       " 'set',\n",
       " 'set_color_codes',\n",
       " 'set_context',\n",
       " 'set_hls_values',\n",
       " 'set_palette',\n",
       " 'set_style',\n",
       " 'set_theme',\n",
       " 'stripplot',\n",
       " 'swarmplot',\n",
       " 'utils',\n",
       " 'violinplot',\n",
       " 'widgets',\n",
       " 'xkcd_palette',\n",
       " 'xkcd_rgb']"
      ]
     },
     "execution_count": 156,
     "metadata": {},
     "output_type": "execute_result"
    }
   ],
   "source": [
    "import seaborn\n",
    "\n",
    "dir(seaborn)"
   ]
  },
  {
   "cell_type": "code",
   "execution_count": 158,
   "id": "859eb130-a3bc-47f5-a947-eee42deee7b4",
   "metadata": {},
   "outputs": [],
   "source": [
    "import matplotlib"
   ]
  },
  {
   "cell_type": "code",
   "execution_count": 160,
   "id": "c002baf1-5b32-43fa-9147-f5ef12466be8",
   "metadata": {},
   "outputs": [
    {
     "data": {
      "text/plain": [
       "['ExecutableNotFoundError',\n",
       " 'MatplotlibDeprecationWarning',\n",
       " 'MutableMapping',\n",
       " 'Parameter',\n",
       " 'Path',\n",
       " 'RcParams',\n",
       " '_ExecInfo',\n",
       " '_VersionInfo',\n",
       " '__all__',\n",
       " '__bibtex__',\n",
       " '__builtins__',\n",
       " '__cached__',\n",
       " '__doc__',\n",
       " '__file__',\n",
       " '__getattr__',\n",
       " '__loader__',\n",
       " '__name__',\n",
       " '__package__',\n",
       " '__path__',\n",
       " '__spec__',\n",
       " '_add_data_doc',\n",
       " '_afm',\n",
       " '_api',\n",
       " '_blocking_input',\n",
       " '_c_internal_utils',\n",
       " '_check_versions',\n",
       " '_cm',\n",
       " '_cm_listed',\n",
       " '_color_data',\n",
       " '_constrained_layout',\n",
       " '_deprecated_ignore_map',\n",
       " '_deprecated_map',\n",
       " '_deprecated_remain_as_none',\n",
       " '_docstring',\n",
       " '_ensure_handler',\n",
       " '_enums',\n",
       " '_fontconfig_pattern',\n",
       " '_get_config_or_cache_dir',\n",
       " '_get_executable_info',\n",
       " '_get_ssl_context',\n",
       " '_get_version',\n",
       " '_get_xdg_cache_dir',\n",
       " '_get_xdg_config_dir',\n",
       " '_image',\n",
       " '_init_tests',\n",
       " '_label_from_arg',\n",
       " '_layoutgrid',\n",
       " '_log',\n",
       " '_logged_cached',\n",
       " '_mathtext',\n",
       " '_mathtext_data',\n",
       " '_open_file_or_url',\n",
       " '_parse_to_version_info',\n",
       " '_path',\n",
       " '_preprocess_data',\n",
       " '_pylab_helpers',\n",
       " '_rc_params_in_file',\n",
       " '_replacer',\n",
       " '_text_helpers',\n",
       " '_tight_bbox',\n",
       " '_tight_layout',\n",
       " '_val_or_rc',\n",
       " '_version',\n",
       " 'artist',\n",
       " 'atexit',\n",
       " 'axes',\n",
       " 'axis',\n",
       " 'backend_bases',\n",
       " 'backend_managers',\n",
       " 'backend_tools',\n",
       " 'bezier',\n",
       " 'category',\n",
       " 'cbook',\n",
       " 'cm',\n",
       " 'collections',\n",
       " 'color_sequences',\n",
       " 'colorbar',\n",
       " 'colormaps',\n",
       " 'colors',\n",
       " 'container',\n",
       " 'contextlib',\n",
       " 'contour',\n",
       " 'cycler',\n",
       " 'dates',\n",
       " 'defaultParams',\n",
       " 'dviread',\n",
       " 'figure',\n",
       " 'font_manager',\n",
       " 'ft2font',\n",
       " 'functools',\n",
       " 'get_backend',\n",
       " 'get_cachedir',\n",
       " 'get_configdir',\n",
       " 'get_data_path',\n",
       " 'gridspec',\n",
       " 'hatch',\n",
       " 'image',\n",
       " 'importlib',\n",
       " 'inspect',\n",
       " 'interactive',\n",
       " 'is_interactive',\n",
       " 'layout_engine',\n",
       " 'legend',\n",
       " 'legend_handler',\n",
       " 'lines',\n",
       " 'locale',\n",
       " 'logging',\n",
       " 'markers',\n",
       " 'mathtext',\n",
       " 'matplotlib_fname',\n",
       " 'mlab',\n",
       " 'namedtuple',\n",
       " 'numpy',\n",
       " 'offsetbox',\n",
       " 'os',\n",
       " 'parse_version',\n",
       " 'patches',\n",
       " 'path',\n",
       " 'pprint',\n",
       " 'projections',\n",
       " 'pyplot',\n",
       " 'quiver',\n",
       " 'rc',\n",
       " 'rcParams',\n",
       " 'rcParamsDefault',\n",
       " 'rcParamsOrig',\n",
       " 'rc_context',\n",
       " 'rc_file',\n",
       " 'rc_file_defaults',\n",
       " 'rc_params',\n",
       " 'rc_params_from_file',\n",
       " 'rcdefaults',\n",
       " 'rcsetup',\n",
       " 're',\n",
       " 'sanitize_sequence',\n",
       " 'scale',\n",
       " 'set_loglevel',\n",
       " 'shutil',\n",
       " 'spines',\n",
       " 'stackplot',\n",
       " 'streamplot',\n",
       " 'style',\n",
       " 'subprocess',\n",
       " 'sys',\n",
       " 'table',\n",
       " 'tempfile',\n",
       " 'texmanager',\n",
       " 'text',\n",
       " 'textpath',\n",
       " 'ticker',\n",
       " 'transforms',\n",
       " 'tri',\n",
       " 'units',\n",
       " 'use',\n",
       " 'validate_backend',\n",
       " 'warnings',\n",
       " 'widgets']"
      ]
     },
     "execution_count": 160,
     "metadata": {},
     "output_type": "execute_result"
    }
   ],
   "source": [
    "dir(matplotlib)"
   ]
  },
  {
   "cell_type": "code",
   "execution_count": 165,
   "id": "60d323e4-313e-406d-af7a-bc9d6a2f91c6",
   "metadata": {},
   "outputs": [],
   "source": [
    "import numpy as np"
   ]
  },
  {
   "cell_type": "code",
   "execution_count": 179,
   "id": "379a6cde-2f60-4fd6-b783-3ebda38a71c4",
   "metadata": {},
   "outputs": [],
   "source": [
    "x=[0,1,2,3]\n",
    "arr1=np.array(x).reshape(2,2)"
   ]
  },
  {
   "cell_type": "code",
   "execution_count": 181,
   "id": "25d89075-aad1-42a7-a5a1-e7231a513a80",
   "metadata": {},
   "outputs": [
    {
     "data": {
      "text/plain": [
       "array([[0, 1],\n",
       "       [2, 3]])"
      ]
     },
     "execution_count": 181,
     "metadata": {},
     "output_type": "execute_result"
    }
   ],
   "source": [
    "arr1"
   ]
  },
  {
   "cell_type": "code",
   "execution_count": 183,
   "id": "832117fe-24a2-4042-b0e1-446643fbb392",
   "metadata": {},
   "outputs": [
    {
     "data": {
      "text/plain": [
       "array([[0., 0., 0.],\n",
       "       [0., 0., 0.],\n",
       "       [0., 0., 0.],\n",
       "       [0., 0., 0.]])"
      ]
     },
     "execution_count": 183,
     "metadata": {},
     "output_type": "execute_result"
    }
   ],
   "source": [
    "np.zeros((4,3))\n",
    " "
   ]
  },
  {
   "cell_type": "code",
   "execution_count": 189,
   "id": "8d31ad03-9f23-4a79-9634-712a32de9637",
   "metadata": {},
   "outputs": [
    {
     "name": "stdout",
     "output_type": "stream",
     "text": [
      "[[1 2 3]\n",
      " [4 5 6]\n",
      " [7 8 9]]\n"
     ]
    }
   ],
   "source": [
    "arr1=np.array([1,2,3,4,5,6,7,8,9]).reshape(3,3)\n",
    "\n",
    "print(arr1)"
   ]
  },
  {
   "cell_type": "code",
   "execution_count": 187,
   "id": "20f30ec3-ccd1-4a6e-b5b9-2c085f4e0a3d",
   "metadata": {},
   "outputs": [
    {
     "data": {
      "text/plain": [
       "array([[1, 2, 3],\n",
       "       [4, 5, 6],\n",
       "       [7, 8, 9]])"
      ]
     },
     "execution_count": 187,
     "metadata": {},
     "output_type": "execute_result"
    }
   ],
   "source": [
    "arr1"
   ]
  },
  {
   "cell_type": "code",
   "execution_count": 199,
   "id": "a1c62b5f-5015-42e3-aac3-8d414badefb9",
   "metadata": {},
   "outputs": [
    {
     "name": "stdout",
     "output_type": "stream",
     "text": [
      "[[1 2 3]\n",
      " [4 5 6]]\n"
     ]
    }
   ],
   "source": [
    "arr1=np.array([1,2,3,4,5,6]).reshape(2,3)\n",
    "\n",
    "print(arr1)"
   ]
  },
  {
   "cell_type": "code",
   "execution_count": 201,
   "id": "21404ad4-769f-4576-a70c-3a349309045e",
   "metadata": {},
   "outputs": [
    {
     "name": "stdout",
     "output_type": "stream",
     "text": [
      "[[1 2 3]\n",
      " [4 5 6]\n",
      " [7 8 9]]\n"
     ]
    }
   ],
   "source": [
    "arr1=np.array([1,2,3,4,5,6,7,8,9]).reshape(3,3)\n",
    "\n",
    "print(arr1)"
   ]
  },
  {
   "cell_type": "code",
   "execution_count": 207,
   "id": "4de4e966-54db-45de-8872-05ab2dd8e228",
   "metadata": {},
   "outputs": [],
   "source": [
    "arr2=np.zeros((2,5))"
   ]
  },
  {
   "cell_type": "code",
   "execution_count": 209,
   "id": "e06a55f9-db1c-435e-8cb8-f6abdc9e5c56",
   "metadata": {},
   "outputs": [
    {
     "data": {
      "text/plain": [
       "array([[0., 0., 0., 0., 0.],\n",
       "       [0., 0., 0., 0., 0.]])"
      ]
     },
     "execution_count": 209,
     "metadata": {},
     "output_type": "execute_result"
    }
   ],
   "source": [
    "arr2"
   ]
  },
  {
   "cell_type": "code",
   "execution_count": 223,
   "id": "1f06a6b0-58f6-4beb-9b99-3e734e0da6fd",
   "metadata": {},
   "outputs": [],
   "source": [
    "x=np.random.randint(0,100,size=25)"
   ]
  },
  {
   "cell_type": "code",
   "execution_count": 221,
   "id": "3a6ff40c-0ebc-40b8-809d-5f9fef9d1080",
   "metadata": {},
   "outputs": [
    {
     "name": "stdout",
     "output_type": "stream",
     "text": [
      "[28 21 50 42 58  5 12 76 24 52 58 88 30 35 86  4 97 89  4  2 12 96 43 12\n",
      " 80]\n"
     ]
    }
   ],
   "source": [
    "print(x)"
   ]
  },
  {
   "cell_type": "code",
   "execution_count": null,
   "id": "78075380-fae5-4d67-ac9c-c77d5db42453",
   "metadata": {},
   "outputs": [],
   "source": []
  }
 ],
 "metadata": {
  "kernelspec": {
   "display_name": "Python 3 (ipykernel)",
   "language": "python",
   "name": "python3"
  },
  "language_info": {
   "codemirror_mode": {
    "name": "ipython",
    "version": 3
   },
   "file_extension": ".py",
   "mimetype": "text/x-python",
   "name": "python",
   "nbconvert_exporter": "python",
   "pygments_lexer": "ipython3",
   "version": "3.12.4"
  }
 },
 "nbformat": 4,
 "nbformat_minor": 5
}
