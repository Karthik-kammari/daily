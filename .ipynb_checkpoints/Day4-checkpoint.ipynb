{
 "cells": [
  {
   "cell_type": "code",
   "execution_count": 75,
   "id": "e1af0fc1-e8a7-4205-9d79-9c58a2ef267c",
   "metadata": {},
   "outputs": [],
   "source": [
    "class Instagram:\n",
    "    def __init__(self,accountname,accountid,followers,following,posts):\n",
    "        self.accname=accountname\n",
    "        self.accid=accountid\n",
    "        self.folwrs=followers\n",
    "        self.folwng=following\n",
    "        self.psts=posts"
   ]
  },
  {
   "cell_type": "code",
   "execution_count": 77,
   "id": "c83dd7a0-fd93-49ce-98ea-da3983a5e2ef",
   "metadata": {},
   "outputs": [],
   "source": [
    "insta1=Instagram('karthik kammari','karthik6071',560,45,185)\n",
    "insta2=Instagram('om prakash bavandla','prakash001',45,566,88)\n",
    "insta3=Instagram('kolan vikram','reddykolan125',360,1005,5)\n",
    "insta4=Instagram('sandeep bogam','sandysandy30',445,700,136)"
   ]
  },
  {
   "cell_type": "code",
   "execution_count": 115,
   "id": "41c9f91b-bb4b-4003-854f-f797f57cdf25",
   "metadata": {},
   "outputs": [
    {
     "ename": "NameError",
     "evalue": "name 'insta1' is not defined",
     "output_type": "error",
     "traceback": [
      "\u001b[1;31m---------------------------------------------------------------------------\u001b[0m",
      "\u001b[1;31mNameError\u001b[0m                                 Traceback (most recent call last)",
      "Cell \u001b[1;32mIn[115], line 1\u001b[0m\n\u001b[1;32m----> 1\u001b[0m \u001b[38;5;28mprint\u001b[39m(insta1)\n",
      "\u001b[1;31mNameError\u001b[0m: name 'insta1' is not defined"
     ]
    }
   ],
   "source": [
    "print(insta1)"
   ]
  },
  {
   "cell_type": "code",
   "execution_count": 117,
   "id": "c4edf9d9-49d8-47b0-acee-6867f9fbfc85",
   "metadata": {},
   "outputs": [],
   "source": [
    "class Instagram:\n",
    "    def __init__(self,accountname,accountid,followers,following,posts):\n",
    "        self.accname=accountname\n",
    "        self.accid=accountid\n",
    "        self.folwrs=followers\n",
    "        self.folwng=following\n",
    "        self.psts=posts\n",
    "        \n",
    "    def __str__(self):\n",
    "        return f'Account name {self.accname} belongs to {self.accid} id'\n",
    "\n"
   ]
  },
  {
   "cell_type": "code",
   "execution_count": 123,
   "id": "f368773f-5d75-4c35-b709-091a07978aea",
   "metadata": {},
   "outputs": [],
   "source": [
    "insta1=Instagram('karthik kammari','karthik6071',560,45,185)\n",
    "insta2=Instagram('om prakash bavandla','prakash001',45,566,88)\n",
    "insta3=Instagram('kolan vikram','reddykolan125',360,1005,5)\n",
    "insta4=Instagram('sandeep bogam','sandysandy30',445,700,136)"
   ]
  },
  {
   "cell_type": "code",
   "execution_count": 127,
   "id": "d4e855eb-efea-445d-b4d3-2d681627f6f4",
   "metadata": {},
   "outputs": [
    {
     "name": "stdout",
     "output_type": "stream",
     "text": [
      "Account name karthik kammari belongs to karthik6071 id\n"
     ]
    }
   ],
   "source": [
    "print(insta1)"
   ]
  },
  {
   "cell_type": "code",
   "execution_count": null,
   "id": "06406301-2718-4dc2-a78c-9c493db63525",
   "metadata": {},
   "outputs": [],
   "source": [
    "sav1=savings(1001,'karthik kammari',100000)\n",
    "sav2=savings(1002,'om prakash',15000)\n",
    "sav3=savings(1003,'vikram reddy',20000)\n",
    "sav4=savings(1004,'Sandeep bogam',25000)"
   ]
  },
  {
   "cell_type": "code",
   "execution_count": 75,
   "id": "a920d1d9-09fc-4572-a1e4-10fa9954b1d3",
   "metadata": {},
   "outputs": [],
   "source": [
    "class account():\n",
    "    def __init__(self,account_number,account_holder_name,account_balance):\n",
    "        self.accnum= account_number\n",
    "        self.accname=account_holder_name\n",
    "        self.accbal=account_balance\n",
    "        self.numtrans = 0\n",
    "        self.maxtrans = 2\n",
    "    def deposit(self,amount):\n",
    "        if amount> 0 and self.numtrans<self.maxtrans:\n",
    "            self.accbal=self.accbal+amount\n",
    "            self.numtrans=self.numtrans+1\n",
    "            \n",
    "    def withdraw(self,amount):\n",
    "        if amount>0 and self.accbal>=amount and self.numtrans<self.maxtrans:\n",
    "            self.accbal= self.accbal-amount\n",
    "            self.numtrans=self.numtrans+1\n",
    "    def __str__(self):       \n",
    "        return f'Account number {self.accnum} is belongs to {self.accname}'\n",
    "    \n",
    "class savings(account):\n",
    "    pass\n",
    "    def __str__(self):       \n",
    "        return f'Account number {self.accnum} is belongs to {self.accname}'\n",
    "\n",
    "\n",
    "class current(account):\n",
    "    def __init__(self,account_number,account_holder_name,account_balance,gender):\n",
    "        super().__init__(account_number,account_holder_name,account_balance)\n",
    "        self.maxtrans =5\n",
    "        self.gender= gender\n",
    "    def __str__(self):       \n",
    "        return f'Account number {self.accnum} is belongs to {self.accname}'\n"
   ]
  },
  {
   "cell_type": "code",
   "execution_count": 77,
   "id": "4f6a3d95-92e6-42c9-92c6-41c57e92ad32",
   "metadata": {},
   "outputs": [],
   "source": [
    "acc1=account(1001,'karthik',15000)"
   ]
  },
  {
   "cell_type": "code",
   "execution_count": 79,
   "id": "961932e9-b4b9-4666-a2fe-90de65df93df",
   "metadata": {},
   "outputs": [],
   "source": [
    "acc1.withdraw(200)"
   ]
  },
  {
   "cell_type": "code",
   "execution_count": 81,
   "id": "00b51bf9-efce-4a57-ac5d-318ec6a1101d",
   "metadata": {},
   "outputs": [
    {
     "data": {
      "text/plain": [
       "14800"
      ]
     },
     "execution_count": 81,
     "metadata": {},
     "output_type": "execute_result"
    }
   ],
   "source": [
    "acc1.accbal"
   ]
  },
  {
   "cell_type": "code",
   "execution_count": 652,
   "id": "a8fb3d17-2bba-41d9-b393-8b64e89dda06",
   "metadata": {},
   "outputs": [],
   "source": [
    "acc1.deposit(200)"
   ]
  },
  {
   "cell_type": "code",
   "execution_count": 83,
   "id": "f6929bdb-4f0c-45a6-8c82-dde574d8bc41",
   "metadata": {},
   "outputs": [
    {
     "name": "stdout",
     "output_type": "stream",
     "text": [
      "Account number 1001 is belongs to karthik\n"
     ]
    }
   ],
   "source": [
    "print(acc1)"
   ]
  },
  {
   "cell_type": "code",
   "execution_count": 600,
   "id": "f9f93ea3-0b95-4426-81a5-6b412eec64d4",
   "metadata": {},
   "outputs": [],
   "source": [
    "sav1=savings(1001,'karthik kammari',100000)\n",
    "sav2=savings(1002,'om prakash',15000)\n",
    "sav3=savings(1003,'vikram reddy',20000)\n",
    "sav4=savings(1004,'Sandeep bogam',25000)"
   ]
  },
  {
   "cell_type": "code",
   "execution_count": 67,
   "id": "622af79a-e670-4400-8119-1d218aaa2118",
   "metadata": {},
   "outputs": [
    {
     "ename": "NameError",
     "evalue": "name 'sav1' is not defined",
     "output_type": "error",
     "traceback": [
      "\u001b[1;31m---------------------------------------------------------------------------\u001b[0m",
      "\u001b[1;31mNameError\u001b[0m                                 Traceback (most recent call last)",
      "Cell \u001b[1;32mIn[67], line 1\u001b[0m\n\u001b[1;32m----> 1\u001b[0m sav1\n",
      "\u001b[1;31mNameError\u001b[0m: name 'sav1' is not defined"
     ]
    }
   ],
   "source": [
    "sav1"
   ]
  },
  {
   "cell_type": "code",
   "execution_count": 616,
   "id": "d4400cb4-ac4a-4965-8df1-364afb322c88",
   "metadata": {},
   "outputs": [],
   "source": [
    "sav2.deposit(500)"
   ]
  },
  {
   "cell_type": "code",
   "execution_count": 618,
   "id": "2d659e02-5a25-4894-ae84-768cd08bdfba",
   "metadata": {},
   "outputs": [
    {
     "data": {
      "text/plain": [
       "16000"
      ]
     },
     "execution_count": 618,
     "metadata": {},
     "output_type": "execute_result"
    }
   ],
   "source": [
    "sav2.accbal"
   ]
  },
  {
   "cell_type": "code",
   "execution_count": 502,
   "id": "03de454f-dcd9-487e-835c-72b9434dbc6d",
   "metadata": {},
   "outputs": [
    {
     "name": "stdout",
     "output_type": "stream",
     "text": [
      "Account number 1002 is belongs to om prakash\n"
     ]
    }
   ],
   "source": [
    "print(sav2)"
   ]
  },
  {
   "cell_type": "code",
   "execution_count": 504,
   "id": "b2d5cdeb-2a97-44be-b52e-ed0ed55e49d7",
   "metadata": {},
   "outputs": [],
   "source": [
    "sav2.withdraw(250)"
   ]
  },
  {
   "cell_type": "code",
   "execution_count": 694,
   "id": "770a4962-041a-4208-9175-8a31f5938992",
   "metadata": {},
   "outputs": [],
   "source": [
    "curr1=current(1005,'karthik',15000,'male')"
   ]
  },
  {
   "cell_type": "code",
   "execution_count": 708,
   "id": "b2e1b7a9-d0fe-4e1f-9348-6380d5f8ccda",
   "metadata": {},
   "outputs": [],
   "source": [
    "curr1.deposit(500)"
   ]
  },
  {
   "cell_type": "code",
   "execution_count": 718,
   "id": "ac9168af-2341-4a64-a76b-4ad800a3d8bd",
   "metadata": {},
   "outputs": [],
   "source": [
    "curr1.withdraw(250)"
   ]
  },
  {
   "cell_type": "code",
   "execution_count": 714,
   "id": "636aa8fc-e836-4e57-80f1-e4da34250e1b",
   "metadata": {},
   "outputs": [
    {
     "data": {
      "text/plain": [
       "16000"
      ]
     },
     "execution_count": 714,
     "metadata": {},
     "output_type": "execute_result"
    }
   ],
   "source": [
    "curr1.accbal"
   ]
  },
  {
   "cell_type": "code",
   "execution_count": 727,
   "id": "ef4f6bde-15c5-44a5-9f43-efe0659de7df",
   "metadata": {},
   "outputs": [],
   "source": [
    "import pandas as pd\n",
    "\n",
    "\n",
    "\n",
    "\n"
   ]
  },
  {
   "cell_type": "code",
   "execution_count": 742,
   "id": "48005402-6f47-48ec-947a-e1269162d919",
   "metadata": {},
   "outputs": [
    {
     "ename": "FileNotFoundError",
     "evalue": "[Errno 2] No such file or directory: 'wine_fraud.csv'",
     "output_type": "error",
     "traceback": [
      "\u001b[1;31m---------------------------------------------------------------------------\u001b[0m",
      "\u001b[1;31mFileNotFoundError\u001b[0m                         Traceback (most recent call last)",
      "Cell \u001b[1;32mIn[742], line 1\u001b[0m\n\u001b[1;32m----> 1\u001b[0m df\u001b[38;5;241m=\u001b[39mpd\u001b[38;5;241m.\u001b[39mread_csv(\u001b[38;5;124m'\u001b[39m\u001b[38;5;124mwine_fraud.csv\u001b[39m\u001b[38;5;124m'\u001b[39m)\n",
      "File \u001b[1;32mD:\\anaconda\\Lib\\site-packages\\pandas\\io\\parsers\\readers.py:1026\u001b[0m, in \u001b[0;36mread_csv\u001b[1;34m(filepath_or_buffer, sep, delimiter, header, names, index_col, usecols, dtype, engine, converters, true_values, false_values, skipinitialspace, skiprows, skipfooter, nrows, na_values, keep_default_na, na_filter, verbose, skip_blank_lines, parse_dates, infer_datetime_format, keep_date_col, date_parser, date_format, dayfirst, cache_dates, iterator, chunksize, compression, thousands, decimal, lineterminator, quotechar, quoting, doublequote, escapechar, comment, encoding, encoding_errors, dialect, on_bad_lines, delim_whitespace, low_memory, memory_map, float_precision, storage_options, dtype_backend)\u001b[0m\n\u001b[0;32m   1013\u001b[0m kwds_defaults \u001b[38;5;241m=\u001b[39m _refine_defaults_read(\n\u001b[0;32m   1014\u001b[0m     dialect,\n\u001b[0;32m   1015\u001b[0m     delimiter,\n\u001b[1;32m   (...)\u001b[0m\n\u001b[0;32m   1022\u001b[0m     dtype_backend\u001b[38;5;241m=\u001b[39mdtype_backend,\n\u001b[0;32m   1023\u001b[0m )\n\u001b[0;32m   1024\u001b[0m kwds\u001b[38;5;241m.\u001b[39mupdate(kwds_defaults)\n\u001b[1;32m-> 1026\u001b[0m \u001b[38;5;28;01mreturn\u001b[39;00m _read(filepath_or_buffer, kwds)\n",
      "File \u001b[1;32mD:\\anaconda\\Lib\\site-packages\\pandas\\io\\parsers\\readers.py:620\u001b[0m, in \u001b[0;36m_read\u001b[1;34m(filepath_or_buffer, kwds)\u001b[0m\n\u001b[0;32m    617\u001b[0m _validate_names(kwds\u001b[38;5;241m.\u001b[39mget(\u001b[38;5;124m\"\u001b[39m\u001b[38;5;124mnames\u001b[39m\u001b[38;5;124m\"\u001b[39m, \u001b[38;5;28;01mNone\u001b[39;00m))\n\u001b[0;32m    619\u001b[0m \u001b[38;5;66;03m# Create the parser.\u001b[39;00m\n\u001b[1;32m--> 620\u001b[0m parser \u001b[38;5;241m=\u001b[39m TextFileReader(filepath_or_buffer, \u001b[38;5;241m*\u001b[39m\u001b[38;5;241m*\u001b[39mkwds)\n\u001b[0;32m    622\u001b[0m \u001b[38;5;28;01mif\u001b[39;00m chunksize \u001b[38;5;129;01mor\u001b[39;00m iterator:\n\u001b[0;32m    623\u001b[0m     \u001b[38;5;28;01mreturn\u001b[39;00m parser\n",
      "File \u001b[1;32mD:\\anaconda\\Lib\\site-packages\\pandas\\io\\parsers\\readers.py:1620\u001b[0m, in \u001b[0;36mTextFileReader.__init__\u001b[1;34m(self, f, engine, **kwds)\u001b[0m\n\u001b[0;32m   1617\u001b[0m     \u001b[38;5;28mself\u001b[39m\u001b[38;5;241m.\u001b[39moptions[\u001b[38;5;124m\"\u001b[39m\u001b[38;5;124mhas_index_names\u001b[39m\u001b[38;5;124m\"\u001b[39m] \u001b[38;5;241m=\u001b[39m kwds[\u001b[38;5;124m\"\u001b[39m\u001b[38;5;124mhas_index_names\u001b[39m\u001b[38;5;124m\"\u001b[39m]\n\u001b[0;32m   1619\u001b[0m \u001b[38;5;28mself\u001b[39m\u001b[38;5;241m.\u001b[39mhandles: IOHandles \u001b[38;5;241m|\u001b[39m \u001b[38;5;28;01mNone\u001b[39;00m \u001b[38;5;241m=\u001b[39m \u001b[38;5;28;01mNone\u001b[39;00m\n\u001b[1;32m-> 1620\u001b[0m \u001b[38;5;28mself\u001b[39m\u001b[38;5;241m.\u001b[39m_engine \u001b[38;5;241m=\u001b[39m \u001b[38;5;28mself\u001b[39m\u001b[38;5;241m.\u001b[39m_make_engine(f, \u001b[38;5;28mself\u001b[39m\u001b[38;5;241m.\u001b[39mengine)\n",
      "File \u001b[1;32mD:\\anaconda\\Lib\\site-packages\\pandas\\io\\parsers\\readers.py:1880\u001b[0m, in \u001b[0;36mTextFileReader._make_engine\u001b[1;34m(self, f, engine)\u001b[0m\n\u001b[0;32m   1878\u001b[0m     \u001b[38;5;28;01mif\u001b[39;00m \u001b[38;5;124m\"\u001b[39m\u001b[38;5;124mb\u001b[39m\u001b[38;5;124m\"\u001b[39m \u001b[38;5;129;01mnot\u001b[39;00m \u001b[38;5;129;01min\u001b[39;00m mode:\n\u001b[0;32m   1879\u001b[0m         mode \u001b[38;5;241m+\u001b[39m\u001b[38;5;241m=\u001b[39m \u001b[38;5;124m\"\u001b[39m\u001b[38;5;124mb\u001b[39m\u001b[38;5;124m\"\u001b[39m\n\u001b[1;32m-> 1880\u001b[0m \u001b[38;5;28mself\u001b[39m\u001b[38;5;241m.\u001b[39mhandles \u001b[38;5;241m=\u001b[39m get_handle(\n\u001b[0;32m   1881\u001b[0m     f,\n\u001b[0;32m   1882\u001b[0m     mode,\n\u001b[0;32m   1883\u001b[0m     encoding\u001b[38;5;241m=\u001b[39m\u001b[38;5;28mself\u001b[39m\u001b[38;5;241m.\u001b[39moptions\u001b[38;5;241m.\u001b[39mget(\u001b[38;5;124m\"\u001b[39m\u001b[38;5;124mencoding\u001b[39m\u001b[38;5;124m\"\u001b[39m, \u001b[38;5;28;01mNone\u001b[39;00m),\n\u001b[0;32m   1884\u001b[0m     compression\u001b[38;5;241m=\u001b[39m\u001b[38;5;28mself\u001b[39m\u001b[38;5;241m.\u001b[39moptions\u001b[38;5;241m.\u001b[39mget(\u001b[38;5;124m\"\u001b[39m\u001b[38;5;124mcompression\u001b[39m\u001b[38;5;124m\"\u001b[39m, \u001b[38;5;28;01mNone\u001b[39;00m),\n\u001b[0;32m   1885\u001b[0m     memory_map\u001b[38;5;241m=\u001b[39m\u001b[38;5;28mself\u001b[39m\u001b[38;5;241m.\u001b[39moptions\u001b[38;5;241m.\u001b[39mget(\u001b[38;5;124m\"\u001b[39m\u001b[38;5;124mmemory_map\u001b[39m\u001b[38;5;124m\"\u001b[39m, \u001b[38;5;28;01mFalse\u001b[39;00m),\n\u001b[0;32m   1886\u001b[0m     is_text\u001b[38;5;241m=\u001b[39mis_text,\n\u001b[0;32m   1887\u001b[0m     errors\u001b[38;5;241m=\u001b[39m\u001b[38;5;28mself\u001b[39m\u001b[38;5;241m.\u001b[39moptions\u001b[38;5;241m.\u001b[39mget(\u001b[38;5;124m\"\u001b[39m\u001b[38;5;124mencoding_errors\u001b[39m\u001b[38;5;124m\"\u001b[39m, \u001b[38;5;124m\"\u001b[39m\u001b[38;5;124mstrict\u001b[39m\u001b[38;5;124m\"\u001b[39m),\n\u001b[0;32m   1888\u001b[0m     storage_options\u001b[38;5;241m=\u001b[39m\u001b[38;5;28mself\u001b[39m\u001b[38;5;241m.\u001b[39moptions\u001b[38;5;241m.\u001b[39mget(\u001b[38;5;124m\"\u001b[39m\u001b[38;5;124mstorage_options\u001b[39m\u001b[38;5;124m\"\u001b[39m, \u001b[38;5;28;01mNone\u001b[39;00m),\n\u001b[0;32m   1889\u001b[0m )\n\u001b[0;32m   1890\u001b[0m \u001b[38;5;28;01massert\u001b[39;00m \u001b[38;5;28mself\u001b[39m\u001b[38;5;241m.\u001b[39mhandles \u001b[38;5;129;01mis\u001b[39;00m \u001b[38;5;129;01mnot\u001b[39;00m \u001b[38;5;28;01mNone\u001b[39;00m\n\u001b[0;32m   1891\u001b[0m f \u001b[38;5;241m=\u001b[39m \u001b[38;5;28mself\u001b[39m\u001b[38;5;241m.\u001b[39mhandles\u001b[38;5;241m.\u001b[39mhandle\n",
      "File \u001b[1;32mD:\\anaconda\\Lib\\site-packages\\pandas\\io\\common.py:873\u001b[0m, in \u001b[0;36mget_handle\u001b[1;34m(path_or_buf, mode, encoding, compression, memory_map, is_text, errors, storage_options)\u001b[0m\n\u001b[0;32m    868\u001b[0m \u001b[38;5;28;01melif\u001b[39;00m \u001b[38;5;28misinstance\u001b[39m(handle, \u001b[38;5;28mstr\u001b[39m):\n\u001b[0;32m    869\u001b[0m     \u001b[38;5;66;03m# Check whether the filename is to be opened in binary mode.\u001b[39;00m\n\u001b[0;32m    870\u001b[0m     \u001b[38;5;66;03m# Binary mode does not support 'encoding' and 'newline'.\u001b[39;00m\n\u001b[0;32m    871\u001b[0m     \u001b[38;5;28;01mif\u001b[39;00m ioargs\u001b[38;5;241m.\u001b[39mencoding \u001b[38;5;129;01mand\u001b[39;00m \u001b[38;5;124m\"\u001b[39m\u001b[38;5;124mb\u001b[39m\u001b[38;5;124m\"\u001b[39m \u001b[38;5;129;01mnot\u001b[39;00m \u001b[38;5;129;01min\u001b[39;00m ioargs\u001b[38;5;241m.\u001b[39mmode:\n\u001b[0;32m    872\u001b[0m         \u001b[38;5;66;03m# Encoding\u001b[39;00m\n\u001b[1;32m--> 873\u001b[0m         handle \u001b[38;5;241m=\u001b[39m \u001b[38;5;28mopen\u001b[39m(\n\u001b[0;32m    874\u001b[0m             handle,\n\u001b[0;32m    875\u001b[0m             ioargs\u001b[38;5;241m.\u001b[39mmode,\n\u001b[0;32m    876\u001b[0m             encoding\u001b[38;5;241m=\u001b[39mioargs\u001b[38;5;241m.\u001b[39mencoding,\n\u001b[0;32m    877\u001b[0m             errors\u001b[38;5;241m=\u001b[39merrors,\n\u001b[0;32m    878\u001b[0m             newline\u001b[38;5;241m=\u001b[39m\u001b[38;5;124m\"\u001b[39m\u001b[38;5;124m\"\u001b[39m,\n\u001b[0;32m    879\u001b[0m         )\n\u001b[0;32m    880\u001b[0m     \u001b[38;5;28;01melse\u001b[39;00m:\n\u001b[0;32m    881\u001b[0m         \u001b[38;5;66;03m# Binary mode\u001b[39;00m\n\u001b[0;32m    882\u001b[0m         handle \u001b[38;5;241m=\u001b[39m \u001b[38;5;28mopen\u001b[39m(handle, ioargs\u001b[38;5;241m.\u001b[39mmode)\n",
      "\u001b[1;31mFileNotFoundError\u001b[0m: [Errno 2] No such file or directory: 'wine_fraud.csv'"
     ]
    }
   ],
   "source": [
    "df=pd.read_csv('C:\\Users\\karth\\Downloads\\wine_fraud (1).csv')"
   ]
  },
  {
   "cell_type": "code",
   "execution_count": 736,
   "id": "094868dc-286e-49b1-8d49-e7ddaa0955c2",
   "metadata": {},
   "outputs": [
    {
     "ename": "NameError",
     "evalue": "name 'df' is not defined",
     "output_type": "error",
     "traceback": [
      "\u001b[1;31m---------------------------------------------------------------------------\u001b[0m",
      "\u001b[1;31mNameError\u001b[0m                                 Traceback (most recent call last)",
      "Cell \u001b[1;32mIn[736], line 1\u001b[0m\n\u001b[1;32m----> 1\u001b[0m df\n",
      "\u001b[1;31mNameError\u001b[0m: name 'df' is not defined"
     ]
    }
   ],
   "source": [
    "df"
   ]
  },
  {
   "cell_type": "code",
   "execution_count": 91,
   "id": "44150a56-6070-41c2-8843-b4037d1c258a",
   "metadata": {},
   "outputs": [],
   "source": [
    "class facebook:\n",
    "    def __init__(self,Accountname,followers,freindrequests):\n",
    "        self.Accname=Accountname\n",
    "        self.fllwr=followers\n",
    "        self.frdreq=freindrequests\n",
    "    def addfollowers(self,n1):\n",
    "        self.fllwr=self.fllwr+n1\n",
    "\n",
    "    def addrequests(self,n2):\n",
    "        self.frdreq=self.frdreq+n2\n",
    "\n",
    "    def __str__(self):\n",
    "        return f'{self.Accname} has {self.fllwr} followers and {self.frdreq} friend requests'\n",
    "        \n",
    "\n",
    "\n",
    "\n"
   ]
  },
  {
   "cell_type": "code",
   "execution_count": 93,
   "id": "0d397c81-5f52-44e8-8029-26731337766e",
   "metadata": {},
   "outputs": [],
   "source": [
    "Face1=facebook('karthik kammari',100,56)"
   ]
  },
  {
   "cell_type": "code",
   "execution_count": 63,
   "id": "c8f4a913-2ee4-4c7d-9e60-fc63426fc720",
   "metadata": {},
   "outputs": [
    {
     "data": {
      "text/plain": [
       "'karthik kammari'"
      ]
     },
     "execution_count": 63,
     "metadata": {},
     "output_type": "execute_result"
    }
   ],
   "source": [
    "\n",
    "Face1.Accname"
   ]
  },
  {
   "cell_type": "code",
   "execution_count": 103,
   "id": "bc474e3b-2164-45e5-8adb-798063339353",
   "metadata": {},
   "outputs": [],
   "source": [
    "Face1.addfollowers(20)"
   ]
  },
  {
   "cell_type": "code",
   "execution_count": 105,
   "id": "511e5917-eddf-4852-b96a-282aded7a644",
   "metadata": {},
   "outputs": [
    {
     "data": {
      "text/plain": [
       "140"
      ]
     },
     "execution_count": 105,
     "metadata": {},
     "output_type": "execute_result"
    }
   ],
   "source": [
    "Face1.fllwr"
   ]
  },
  {
   "cell_type": "code",
   "execution_count": 107,
   "id": "09bbd32a-596b-42ca-8221-c41ec59df838",
   "metadata": {},
   "outputs": [
    {
     "name": "stdout",
     "output_type": "stream",
     "text": [
      "karthik kammari has 140 followers and 56 friend requests\n"
     ]
    }
   ],
   "source": [
    "print(Face1)"
   ]
  },
  {
   "cell_type": "code",
   "execution_count": null,
   "id": "3f7bf9a6-46b5-4ccb-a118-3564d052b988",
   "metadata": {},
   "outputs": [],
   "source": []
  }
 ],
 "metadata": {
  "kernelspec": {
   "display_name": "Python 3 (ipykernel)",
   "language": "python",
   "name": "python3"
  },
  "language_info": {
   "codemirror_mode": {
    "name": "ipython",
    "version": 3
   },
   "file_extension": ".py",
   "mimetype": "text/x-python",
   "name": "python",
   "nbconvert_exporter": "python",
   "pygments_lexer": "ipython3",
   "version": "3.12.4"
  }
 },
 "nbformat": 4,
 "nbformat_minor": 5
}
