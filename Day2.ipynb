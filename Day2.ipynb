{
 "cells": [
  {
   "cell_type": "code",
   "execution_count": null,
   "id": "f510f52e-e327-4d93-89a4-609688923286",
   "metadata": {},
   "outputs": [
    {
     "name": "stdout",
     "output_type": "stream",
     "text": [
      "enter the number 25\n",
      "enter the number 65\n"
     ]
    },
    {
     "name": "stdout",
     "output_type": "stream",
     "text": [
      "90\n"
     ]
    }
   ],
   "source": [
    "c=int(input('enter the number'))\n",
    "\n",
    "d=int(input('enter the number'))\n",
    "\n",
    "print(c+d)"
   ]
  },
  {
   "cell_type": "code",
   "execution_count": 28,
   "id": "22548e07-8592-4332-8d4a-bdeb4c8bd2b3",
   "metadata": {},
   "outputs": [
    {
     "name": "stdout",
     "output_type": "stream",
     "text": [
      "Enter your birthyear:  1996\n"
     ]
    },
    {
     "name": "stdout",
     "output_type": "stream",
     "text": [
      "Your age is  28\n"
     ]
    }
   ],
   "source": [
    "BY=int(input('Enter your birthyear: '))\n",
    "\n",
    "age=2024-BY\n",
    "\n",
    "print('Your age is ', age)"
   ]
  },
  {
   "cell_type": "code",
   "execution_count": 55,
   "id": "ef56a30f-2942-4beb-b739-99acd76c240e",
   "metadata": {},
   "outputs": [
    {
     "ename": "SyntaxError",
     "evalue": "unterminated string literal (detected at line 4) (800518668.py, line 4)",
     "output_type": "error",
     "traceback": [
      "\u001b[1;36m  Cell \u001b[1;32mIn[55], line 4\u001b[1;36m\u001b[0m\n\u001b[1;33m    print('Sorry! You failed)\u001b[0m\n\u001b[1;37m          ^\u001b[0m\n\u001b[1;31mSyntaxError\u001b[0m\u001b[1;31m:\u001b[0m unterminated string literal (detected at line 4)\n"
     ]
    }
   ],
   "source": []
  },
  {
   "cell_type": "code",
   "execution_count": 144,
   "id": "53415828-3d24-4506-afb9-ca0d40ba2b02",
   "metadata": {},
   "outputs": [
    {
     "name": "stdout",
     "output_type": "stream",
     "text": [
      "enter your marks:  55\n"
     ]
    },
    {
     "name": "stdout",
     "output_type": "stream",
     "text": [
      "Hurray! you passed.with grade B\n"
     ]
    }
   ],
   "source": [
    "Marks=int(input('enter your marks: '))\n",
    "\n",
    "if Marks<=35 and Marks>0:\n",
    "    print('Sorry! You Failed')\n",
    "elif Marks>35 and Marks<=50:\n",
    "    print('Hurray! you passed.with grade C')\n",
    "elif Marks>50 and Marks<=75:\n",
    "    print('Hurray! you passed.with grade B')\n",
    "elif Marks>75 and Marks<=90:\n",
    "    print('Hurray! you passed.with grade A')\n",
    "elif Marks>90 and Marks<=100:\n",
    "    print('Hurry! you pased. with grade A++')\n",
    "else:\n",
    "    print('Enter the marks Between 1 to 100')"
   ]
  },
  {
   "cell_type": "code",
   "execution_count": 306,
   "id": "5b2dfdee-0907-4471-bd42-412205aaace3",
   "metadata": {},
   "outputs": [
    {
     "name": "stdout",
     "output_type": "stream",
     "text": [
      "1.sunday\n",
      "2.monday\n",
      "3.tuesday\n",
      "4.wednesday\n",
      "5.thursday\n",
      "6.friday\n",
      "7.saturday\n"
     ]
    },
    {
     "name": "stdout",
     "output_type": "stream",
     "text": [
      "enter the day number:  5\n"
     ]
    },
    {
     "name": "stdout",
     "output_type": "stream",
     "text": [
      "It's thursday\n"
     ]
    }
   ],
   "source": [
    "print('1.sunday')\n",
    "print('2.monday')\n",
    "print('3.tuesday')\n",
    "print('4.wednesday')\n",
    "print('5.thursday')\n",
    "print('6.friday')\n",
    "print('7.saturday')\n",
    "days=(\"-\",'sunday','monday','tuesday','wednesday','thursday','friday','saturday')\n",
    "\n",
    "daynum=int(input('enter the day number: '))\n",
    "\n",
    "if daynum>0 and daynum<=7:\n",
    "    print(\"It's \" + days[daynum])\n",
    "else:\n",
    "    print('Enter the correct number')\n",
    "\n"
   ]
  },
  {
   "cell_type": "code",
   "execution_count": 267,
   "id": "3233f132-d3fd-4b26-9192-820828b956ef",
   "metadata": {},
   "outputs": [
    {
     "name": "stdout",
     "output_type": "stream",
     "text": [
      "1.sunday\n",
      "2.monday\n",
      "3.tuesday\n",
      "4.wednesday\n",
      "5.thursday\n",
      "6.friday\n",
      "7.saturday\n"
     ]
    },
    {
     "name": "stdout",
     "output_type": "stream",
     "text": [
      "Enter the weekday to transfer in spanish:  Saturday\n"
     ]
    },
    {
     "name": "stdout",
     "output_type": "stream",
     "text": [
      "English - Saturday\n",
      "Spanish - Sabado\n"
     ]
    }
   ],
   "source": [
    "print('1.sunday')\n",
    "print('2.monday')\n",
    "print('3.tuesday')\n",
    "print('4.wednesday')\n",
    "print('5.thursday')\n",
    "print('6.friday')\n",
    "print('7.saturday')\n",
    "\n",
    "\n",
    "English={'Sunday':'Domingo','Monday':'Lunes','Tuesday':'Martes','Wednesday':'Miercoles','Thursday':'Jueves','Friday':'Viernes','Saturday':'Sabado'}\n",
    "\n",
    "weekday=input('Enter the weekday to transfer in spanish: ')\n",
    "if weekday in English:\n",
    "    print('English - '+ weekday)\n",
    "    print('Spanish - '+ English[weekday])\n",
    "else:\n",
    "    print('Invalid input')"
   ]
  },
  {
   "cell_type": "code",
   "execution_count": 294,
   "id": "f4d6bd22-1008-4114-889d-a47cffef8a92",
   "metadata": {},
   "outputs": [
    {
     "name": "stdout",
     "output_type": "stream",
     "text": [
      "karthik\n",
      "karthik\n",
      "karthik\n"
     ]
    }
   ],
   "source": [
    "num1=10\n",
    "num2=13\n",
    "\n",
    "\n",
    "while num2>num1:\n",
    "    print('karthik')\n",
    "    num1=num1+1"
   ]
  },
  {
   "cell_type": "code",
   "execution_count": 396,
   "id": "0e357b47-cf52-4ec8-9748-0e81ec9c26b9",
   "metadata": {},
   "outputs": [
    {
     "name": "stdout",
     "output_type": "stream",
     "text": [
      "Enter a number:  10\n",
      "Enter a number:  10\n",
      "Enter a number:  101\n",
      "Enter a number:  10\n",
      "Enter a number:  10\n",
      "Enter a number:  10\n",
      "Enter a number:  10\n",
      "Enter a number:  10\n",
      "Enter a number:  10\n",
      "Enter a number:  10\n"
     ]
    },
    {
     "name": "stdout",
     "output_type": "stream",
     "text": [
      "101\n"
     ]
    }
   ],
   "source": [
    "num1=0\n",
    "list1=[]\n",
    "while num1<10:\n",
    "    value=int(input('Enter a number: '))\n",
    "    list1.append(value)\n",
    "    num1=num1+1\n",
    "print(max(list1))"
   ]
  },
  {
   "cell_type": "code",
   "execution_count": 414,
   "id": "98f45ed4-1889-425e-980e-2a5ac2d8575f",
   "metadata": {},
   "outputs": [
    {
     "name": "stdout",
     "output_type": "stream",
     "text": [
      "enter the nuber 10\n",
      "enter the nuber 22\n",
      "enter the nuber 33\n",
      "enter the nuber 44\n",
      "enter the nuber 55\n"
     ]
    },
    {
     "name": "stdout",
     "output_type": "stream",
     "text": [
      "[10, 22, 33, 44, 55]\n",
      "164\n"
     ]
    }
   ],
   "source": [
    "num1=0\n",
    "list1=[]\n",
    "\n",
    "while num1<5:\n",
    "    value=int(input('enter the nuber'))\n",
    "    list1.append(value)\n",
    "    num1=num1+1\n",
    "print(list1)\n",
    "print(sum(list1))\n",
    "\n"
   ]
  },
  {
   "cell_type": "code",
   "execution_count": 384,
   "id": "2c7df92a-34f1-446e-b3f6-a68ab06bf3a7",
   "metadata": {},
   "outputs": [
    {
     "data": {
      "text/plain": [
       "range(0, 10)"
      ]
     },
     "execution_count": 384,
     "metadata": {},
     "output_type": "execute_result"
    }
   ],
   "source": [
    "range(10)"
   ]
  },
  {
   "cell_type": "code",
   "execution_count": 402,
   "id": "b6b8db8b-f2c1-4862-bde1-32721109e912",
   "metadata": {},
   "outputs": [
    {
     "data": {
      "text/plain": [
       "range(1, 10)"
      ]
     },
     "execution_count": 402,
     "metadata": {},
     "output_type": "execute_result"
    }
   ],
   "source": [
    "range(1,10)"
   ]
  },
  {
   "cell_type": "code",
   "execution_count": 416,
   "id": "5097a3a5-9955-43b5-8437-526b8ad495b5",
   "metadata": {},
   "outputs": [
    {
     "data": {
      "text/plain": [
       "[1, 2, 3, 4, 5, 6, 7, 8, 9]"
      ]
     },
     "execution_count": 416,
     "metadata": {},
     "output_type": "execute_result"
    }
   ],
   "source": [
    "list(range(1,10))"
   ]
  },
  {
   "cell_type": "code",
   "execution_count": 424,
   "id": "d236dedc-c33d-493f-9058-d18e87e5c79d",
   "metadata": {},
   "outputs": [
    {
     "data": {
      "text/plain": [
       "[1, 3, 5, 7, 9]"
      ]
     },
     "execution_count": 424,
     "metadata": {},
     "output_type": "execute_result"
    }
   ],
   "source": [
    "list(range(1,10,2))"
   ]
  },
  {
   "cell_type": "code",
   "execution_count": 422,
   "id": "f0c1b8ad-ea55-4e78-bd38-491cfd181721",
   "metadata": {},
   "outputs": [
    {
     "data": {
      "text/plain": [
       "[1, 3, 5, 7, 9]"
      ]
     },
     "execution_count": 422,
     "metadata": {},
     "output_type": "execute_result"
    }
   ],
   "source": [
    "list(range(1, 11, 2))"
   ]
  },
  {
   "cell_type": "code",
   "execution_count": 426,
   "id": "7aeceef7-8333-41d5-b227-414924a45a54",
   "metadata": {},
   "outputs": [
    {
     "data": {
      "text/plain": [
       "[0, 1, 2, 3, 4, 5, 6, 7, 8, 9]"
      ]
     },
     "execution_count": 426,
     "metadata": {},
     "output_type": "execute_result"
    }
   ],
   "source": [
    "list(range(0,10))"
   ]
  },
  {
   "cell_type": "code",
   "execution_count": 410,
   "id": "3cd597e3-141e-4040-b3db-4309e98e8698",
   "metadata": {},
   "outputs": [],
   "source": [
    "del list"
   ]
  },
  {
   "cell_type": "code",
   "execution_count": 434,
   "id": "dd074153-a626-4d59-8e33-1b1e800c93ad",
   "metadata": {},
   "outputs": [
    {
     "data": {
      "text/plain": [
       "[0, -1, -2, -3, -4, -5, -6, -7, -8, -9]"
      ]
     },
     "execution_count": 434,
     "metadata": {},
     "output_type": "execute_result"
    }
   ],
   "source": [
    "list(range(0,-10,-1))"
   ]
  },
  {
   "cell_type": "code",
   "execution_count": 436,
   "id": "fbdfb4ed-3388-40ff-9b06-b305271524e7",
   "metadata": {},
   "outputs": [
    {
     "name": "stdout",
     "output_type": "stream",
     "text": [
      "hello\n",
      "hello\n",
      "hello\n",
      "hello\n",
      "hello\n",
      "hello\n",
      "hello\n",
      "hello\n",
      "hello\n",
      "hello\n"
     ]
    }
   ],
   "source": [
    "for kar in range(10):\n",
    "    print('hello')"
   ]
  },
  {
   "cell_type": "code",
   "execution_count": 491,
   "id": "a6a961d1-f476-4594-b560-a6a4d27b9bde",
   "metadata": {},
   "outputs": [
    {
     "name": "stdout",
     "output_type": "stream",
     "text": [
      "enter the number 10\n",
      "enter the number 10\n",
      "enter the number 140\n",
      "enter the number 10\n",
      "enter the number 140\n"
     ]
    }
   ],
   "source": [
    "numbers=[]\n",
    "\n",
    "for num1 in range(5):\n",
    "    num1=int(input('enter the number'))\n",
    "    numbers.append(num1)\n",
    "    "
   ]
  },
  {
   "cell_type": "code",
   "execution_count": 493,
   "id": "250faa6a-2ff0-41c3-a69b-141edd50ff54",
   "metadata": {},
   "outputs": [
    {
     "data": {
      "text/plain": [
       "[10, 10, 140, 10, 140]"
      ]
     },
     "execution_count": 493,
     "metadata": {},
     "output_type": "execute_result"
    }
   ],
   "source": [
    "numbers\n"
   ]
  },
  {
   "cell_type": "code",
   "execution_count": 464,
   "id": "bc201f9b-09ee-471c-93e2-27a33ba25f7e",
   "metadata": {},
   "outputs": [],
   "source": [
    "number10=range(1,21)"
   ]
  },
  {
   "cell_type": "code",
   "execution_count": 466,
   "id": "6d43f0da-198f-4600-ba4e-23197e053a44",
   "metadata": {},
   "outputs": [
    {
     "data": {
      "text/plain": [
       "[1, 2, 3, 4, 5, 6, 7, 8, 9, 10, 11, 12, 13, 14, 15, 16, 17, 18, 19, 20]"
      ]
     },
     "execution_count": 466,
     "metadata": {},
     "output_type": "execute_result"
    }
   ],
   "source": [
    "list(number10)"
   ]
  },
  {
   "cell_type": "code",
   "execution_count": 505,
   "id": "2fd9d793-4320-44a1-bcd4-0f7acc691672",
   "metadata": {},
   "outputs": [],
   "source": [
    "even=[]\n",
    "odd=[]\n",
    "\n",
    "for value in number10:\n",
    "    if value % 2==0:\n",
    "        even.append(value)\n",
    "    else:\n",
    "        odd.append(value)\n",
    "      "
   ]
  },
  {
   "cell_type": "code",
   "execution_count": 507,
   "id": "8d09f7b5-605a-47d3-be52-be959c945b27",
   "metadata": {},
   "outputs": [
    {
     "name": "stdout",
     "output_type": "stream",
     "text": [
      "[2, 4, 6, 8, 10, 12, 14, 16, 18, 20]\n",
      "[1, 3, 5, 7, 9, 11, 13, 15, 17, 19]\n"
     ]
    }
   ],
   "source": [
    "print(even)\n",
    "print(odd)"
   ]
  },
  {
   "cell_type": "code",
   "execution_count": 509,
   "id": "aa3d601a-1c6c-4332-a187-57def0dd3e29",
   "metadata": {},
   "outputs": [],
   "source": [
    "chary=range(20,41)"
   ]
  },
  {
   "cell_type": "code",
   "execution_count": 517,
   "id": "11385e67-74d8-4a9e-b395-76dbc1a69263",
   "metadata": {},
   "outputs": [
    {
     "data": {
      "text/plain": [
       "[20,\n",
       " 21,\n",
       " 22,\n",
       " 23,\n",
       " 24,\n",
       " 25,\n",
       " 26,\n",
       " 27,\n",
       " 28,\n",
       " 29,\n",
       " 30,\n",
       " 31,\n",
       " 32,\n",
       " 33,\n",
       " 34,\n",
       " 35,\n",
       " 36,\n",
       " 37,\n",
       " 38,\n",
       " 39,\n",
       " 40]"
      ]
     },
     "execution_count": 517,
     "metadata": {},
     "output_type": "execute_result"
    }
   ],
   "source": [
    "list(chary)\n"
   ]
  },
  {
   "cell_type": "code",
   "execution_count": 519,
   "id": "3557155f-71b2-4f14-b4b1-4a71038f279b",
   "metadata": {},
   "outputs": [],
   "source": [
    "kar=[]\n",
    "char=[]\n",
    "\n",
    "for value in chary:\n",
    "    if value%2==0:\n",
    "        kar.append(value)\n",
    "    else:\n",
    "        char.append(value)"
   ]
  },
  {
   "cell_type": "code",
   "execution_count": 521,
   "id": "683dd785-8091-41a6-8269-d907d09a4374",
   "metadata": {},
   "outputs": [
    {
     "name": "stdout",
     "output_type": "stream",
     "text": [
      "[20, 22, 24, 26, 28, 30, 32, 34, 36, 38, 40]\n"
     ]
    }
   ],
   "source": [
    "print(kar)"
   ]
  },
  {
   "cell_type": "code",
   "execution_count": 523,
   "id": "f4aad4e5-1dd9-41cf-89bc-1784728ff188",
   "metadata": {},
   "outputs": [
    {
     "name": "stdout",
     "output_type": "stream",
     "text": [
      "[21, 23, 25, 27, 29, 31, 33, 35, 37, 39]\n"
     ]
    }
   ],
   "source": [
    "print(char)"
   ]
  },
  {
   "cell_type": "code",
   "execution_count": 527,
   "id": "5585864d-fa27-4ab5-8dce-56afac47d068",
   "metadata": {},
   "outputs": [
    {
     "name": "stdout",
     "output_type": "stream",
     "text": [
      "karthik\n",
      "karthik\n",
      "karthik\n",
      "karthik\n",
      "karthik\n",
      "karthik\n",
      "karthik\n",
      "karthik\n",
      "karthik\n",
      "karthik\n"
     ]
    }
   ],
   "source": [
    "for val in range(10):\n",
    "    print('karthik')\n"
   ]
  },
  {
   "cell_type": "code",
   "execution_count": 534,
   "id": "16736bab-d41a-4b9a-a322-eb9bd2bd0248",
   "metadata": {},
   "outputs": [
    {
     "name": "stdout",
     "output_type": "stream",
     "text": [
      "hello chary\n",
      "hello chary\n",
      "hello chary\n",
      "hello chary\n",
      "hello chary\n"
     ]
    }
   ],
   "source": [
    "kar=0\n",
    "\n",
    "while kar<5:\n",
    "    print('hello chary')\n",
    "    kar=kar+1\n",
    "\n"
   ]
  },
  {
   "cell_type": "code",
   "execution_count": 3,
   "id": "4ace2620-be19-457f-bcde-502534ef9fa0",
   "metadata": {},
   "outputs": [
    {
     "name": "stdout",
     "output_type": "stream",
     "text": [
      "enter the numbers 10\n",
      "enter the numbers 10\n",
      "enter the numbers 10\n",
      "enter the numbers 10\n",
      "enter the numbers 12\n"
     ]
    }
   ],
   "source": [
    "num1=[]\n",
    "\n",
    "for val in range(5):\n",
    "    val=int(input('enter the numbers'))\n",
    "    num1.append(val)"
   ]
  },
  {
   "cell_type": "code",
   "execution_count": 5,
   "id": "880f21fe-d17f-4845-8b7b-5a8811c3059f",
   "metadata": {},
   "outputs": [
    {
     "data": {
      "text/plain": [
       "[10, 10, 10, 10, 12]"
      ]
     },
     "execution_count": 5,
     "metadata": {},
     "output_type": "execute_result"
    }
   ],
   "source": [
    "num1"
   ]
  },
  {
   "cell_type": "code",
   "execution_count": null,
   "id": "8b54780d-33f4-48b3-9aaf-e0e19b4cf59a",
   "metadata": {},
   "outputs": [],
   "source": []
  }
 ],
 "metadata": {
  "kernelspec": {
   "display_name": "Python 3 (ipykernel)",
   "language": "python",
   "name": "python3"
  },
  "language_info": {
   "codemirror_mode": {
    "name": "ipython",
    "version": 3
   },
   "file_extension": ".py",
   "mimetype": "text/x-python",
   "name": "python",
   "nbconvert_exporter": "python",
   "pygments_lexer": "ipython3",
   "version": "3.12.4"
  }
 },
 "nbformat": 4,
 "nbformat_minor": 5
}
