{
 "cells": [
  {
   "cell_type": "markdown",
   "id": "63588141-14de-41b5-9c96-79cb153bf447",
   "metadata": {},
   "source": [
    "Write a program to find the maximum of many given numbers\n",
    "\n"
   ]
  },
  {
   "cell_type": "code",
   "execution_count": 19,
   "id": "ebfb8db0-1c7b-4e60-8800-fded515ea26b",
   "metadata": {},
   "outputs": [],
   "source": [
    "list_of_nums=[22,33,99,1,5,997,66]\n",
    "\n"
   ]
  },
  {
   "cell_type": "code",
   "execution_count": 7,
   "id": "7983f388-1f06-456e-8408-0f17e0d320fa",
   "metadata": {},
   "outputs": [
    {
     "data": {
      "text/plain": [
       "997"
      ]
     },
     "execution_count": 7,
     "metadata": {},
     "output_type": "execute_result"
    }
   ],
   "source": [
    "max(list_of_nums)"
   ]
  },
  {
   "cell_type": "code",
   "execution_count": 23,
   "id": "c870852a-6a66-4ee0-80b5-cdba6641be41",
   "metadata": {},
   "outputs": [],
   "source": [
    "list_of_nums.sort(reverse = True)"
   ]
  },
  {
   "cell_type": "code",
   "execution_count": 25,
   "id": "9b44aedf-0802-4b8b-aea5-b04e385b814d",
   "metadata": {},
   "outputs": [
    {
     "data": {
      "text/plain": [
       "[997, 99, 66, 33, 22, 5, 1]"
      ]
     },
     "execution_count": 25,
     "metadata": {},
     "output_type": "execute_result"
    }
   ],
   "source": [
    "list_of_nums"
   ]
  },
  {
   "cell_type": "code",
   "execution_count": 29,
   "id": "469be63f-d5f6-42c7-9cec-500745c6d5d1",
   "metadata": {},
   "outputs": [
    {
     "data": {
      "text/plain": [
       "997"
      ]
     },
     "execution_count": 29,
     "metadata": {},
     "output_type": "execute_result"
    }
   ],
   "source": [
    "list_of_nums[0]"
   ]
  },
  {
   "cell_type": "code",
   "execution_count": 35,
   "id": "0548b278-ed4d-45ea-bd1a-6a8360dbc274",
   "metadata": {},
   "outputs": [
    {
     "name": "stdin",
     "output_type": "stream",
     "text": [
      "enter the number of values to compare? 4\n",
      "enter the numbers one by one 55\n",
      "enter the numbers one by one 7\n",
      "enter the numbers one by one 999\n",
      "enter the numbers one by one 121\n"
     ]
    },
    {
     "name": "stdout",
     "output_type": "stream",
     "text": [
      "999  is the highest value\n"
     ]
    }
   ],
   "source": [
    "valtocount=int(input('enter the number of values to compare?'))\n",
    "\n",
    "values=[]\n",
    "\n",
    "\n",
    "for val in range(valtocount):\n",
    "    nums=int(input('enter the numbers one by one'))\n",
    "    values.append(nums)\n",
    "\n",
    "print(max(values),' is the highest value')\n",
    "\n"
   ]
  },
  {
   "cell_type": "code",
   "execution_count": null,
   "id": "5074f654-f491-4b16-a51b-46dc4a5d8953",
   "metadata": {},
   "outputs": [],
   "source": []
  }
 ],
 "metadata": {
  "kernelspec": {
   "display_name": "Python 3 (ipykernel)",
   "language": "python",
   "name": "python3"
  },
  "language_info": {
   "codemirror_mode": {
    "name": "ipython",
    "version": 3
   },
   "file_extension": ".py",
   "mimetype": "text/x-python",
   "name": "python",
   "nbconvert_exporter": "python",
   "pygments_lexer": "ipython3",
   "version": "3.12.4"
  }
 },
 "nbformat": 4,
 "nbformat_minor": 5
}
